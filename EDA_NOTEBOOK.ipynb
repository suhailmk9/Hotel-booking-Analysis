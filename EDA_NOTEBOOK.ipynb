{
  "nbformat": 4,
  "nbformat_minor": 0,
  "metadata": {
    "colab": {
      "name": "EDA NOTEBOOK.ipynb",
      "provenance": [],
      "collapsed_sections": [
        "9o1jtwpPBzil",
        "P60xAiXrAxay",
        "ya_Ahx0bDrTN",
        "otd2xEzQC0FG",
        "vTc2sHsJP_pu",
        "jg5IuqjGaDAA",
        "iyS4VQDVbJYS"
      ],
      "include_colab_link": true
    },
    "kernelspec": {
      "name": "python3",
      "display_name": "Python 3"
    },
    "language_info": {
      "name": "python"
    }
  },
  "cells": [
    {
      "cell_type": "markdown",
      "metadata": {
        "id": "view-in-github",
        "colab_type": "text"
      },
      "source": [
        "<a href=\"https://colab.research.google.com/github/suhailmk9/Hotel-booking-Analysis/blob/main/EDA_NOTEBOOK.ipynb\" target=\"_parent\"><img src=\"https://colab.research.google.com/assets/colab-badge.svg\" alt=\"Open In Colab\"/></a>"
      ]
    },
    {
      "cell_type": "markdown",
      "metadata": {
        "id": "McNOK5aLyPf8"
      },
      "source": [
        "#HOTEL BOOKING ANALYSIS  "
      ]
    },
    {
      "cell_type": "markdown",
      "metadata": {
        "id": "X1NHcgOf0pL5"
      },
      "source": [
        "Word \"HOTEL\" as we are familiar with this word and come across with this word very often.What does HOTEL mean? a hotel is a  building where travelers can pay for lodging and meals and other service.\n",
        "The hospitality industry is one of the blooming industry all over the world.\n",
        "Hotel operations vary in size, function, complexity, and cost. Most hotels and major hospitality companies have set industry standards to classify hotel types. An upscale full-service hotel facility offers luxury amenities, full-service accommodations, an on-site restaurant, and the highest level of personalized service Small, lower-priced hotels may offer only the most basic guest services and facilities.\n",
        "so in this project we are going to look into the given data and try to analyze it.\n",
        "here we have data for two types of hotels city hotel and resort hotel from the different countries along the guest list and the average daily price.\n"
      ]
    },
    {
      "cell_type": "markdown",
      "metadata": {
        "id": "A7_2VpaYA-25"
      },
      "source": [
        "### Importing the Libraries"
      ]
    },
    {
      "cell_type": "code",
      "metadata": {
        "id": "0Zv6oNlF4gpV"
      },
      "source": [
        "import pandas as pd\n",
        "import numpy as np\n",
        "import matplotlib.pyplot as plt\n",
        "plt.style.use('classic')\n",
        "%matplotlib inline\n",
        "import seaborn as sns\n",
        "sns.set()"
      ],
      "execution_count": null,
      "outputs": []
    },
    {
      "cell_type": "markdown",
      "metadata": {
        "id": "hwysg9A0BIlS"
      },
      "source": [
        "###Importing the csv file.###"
      ]
    },
    {
      "cell_type": "code",
      "metadata": {
        "id": "OOR-IYgY_Hh5",
        "colab": {
          "base_uri": "https://localhost:8080/"
        },
        "outputId": "9ed7efa2-a0f6-44bd-97b2-e5142b79de5a"
      },
      "source": [
        "from google.colab import drive\n",
        "drive.mount('/content/drive')\n",
        "file_path = '/content/drive/MyDrive/almabetter practice data/Hotel Bookings.csv'\n",
        "df=pd.read_csv(file_path)"
      ],
      "execution_count": null,
      "outputs": [
        {
          "output_type": "stream",
          "name": "stdout",
          "text": [
            "Drive already mounted at /content/drive; to attempt to forcibly remount, call drive.mount(\"/content/drive\", force_remount=True).\n"
          ]
        }
      ]
    },
    {
      "cell_type": "markdown",
      "metadata": {
        "id": "9o1jtwpPBzil"
      },
      "source": [
        "###Basic Info of data###"
      ]
    },
    {
      "cell_type": "code",
      "metadata": {
        "id": "MyFom-2lbNZk",
        "colab": {
          "base_uri": "https://localhost:8080/",
          "height": 312
        },
        "outputId": "df0caffe-4987-4441-b537-ec9d3995ef3e"
      },
      "source": [
        "df.head()"
      ],
      "execution_count": null,
      "outputs": [
        {
          "output_type": "execute_result",
          "data": {
            "text/html": [
              "<div>\n",
              "<style scoped>\n",
              "    .dataframe tbody tr th:only-of-type {\n",
              "        vertical-align: middle;\n",
              "    }\n",
              "\n",
              "    .dataframe tbody tr th {\n",
              "        vertical-align: top;\n",
              "    }\n",
              "\n",
              "    .dataframe thead th {\n",
              "        text-align: right;\n",
              "    }\n",
              "</style>\n",
              "<table border=\"1\" class=\"dataframe\">\n",
              "  <thead>\n",
              "    <tr style=\"text-align: right;\">\n",
              "      <th></th>\n",
              "      <th>hotel</th>\n",
              "      <th>is_canceled</th>\n",
              "      <th>lead_time</th>\n",
              "      <th>arrival_date_year</th>\n",
              "      <th>arrival_date_month</th>\n",
              "      <th>arrival_date_week_number</th>\n",
              "      <th>arrival_date_day_of_month</th>\n",
              "      <th>stays_in_weekend_nights</th>\n",
              "      <th>stays_in_week_nights</th>\n",
              "      <th>adults</th>\n",
              "      <th>children</th>\n",
              "      <th>babies</th>\n",
              "      <th>meal</th>\n",
              "      <th>country</th>\n",
              "      <th>market_segment</th>\n",
              "      <th>distribution_channel</th>\n",
              "      <th>is_repeated_guest</th>\n",
              "      <th>previous_cancellations</th>\n",
              "      <th>previous_bookings_not_canceled</th>\n",
              "      <th>reserved_room_type</th>\n",
              "      <th>assigned_room_type</th>\n",
              "      <th>booking_changes</th>\n",
              "      <th>deposit_type</th>\n",
              "      <th>agent</th>\n",
              "      <th>company</th>\n",
              "      <th>days_in_waiting_list</th>\n",
              "      <th>customer_type</th>\n",
              "      <th>adr</th>\n",
              "      <th>required_car_parking_spaces</th>\n",
              "      <th>total_of_special_requests</th>\n",
              "      <th>reservation_status</th>\n",
              "      <th>reservation_status_date</th>\n",
              "    </tr>\n",
              "  </thead>\n",
              "  <tbody>\n",
              "    <tr>\n",
              "      <th>0</th>\n",
              "      <td>Resort Hotel</td>\n",
              "      <td>0</td>\n",
              "      <td>342</td>\n",
              "      <td>2015</td>\n",
              "      <td>July</td>\n",
              "      <td>27</td>\n",
              "      <td>1</td>\n",
              "      <td>0</td>\n",
              "      <td>0</td>\n",
              "      <td>2</td>\n",
              "      <td>0.0</td>\n",
              "      <td>0</td>\n",
              "      <td>BB</td>\n",
              "      <td>PRT</td>\n",
              "      <td>Direct</td>\n",
              "      <td>Direct</td>\n",
              "      <td>0</td>\n",
              "      <td>0</td>\n",
              "      <td>0</td>\n",
              "      <td>C</td>\n",
              "      <td>C</td>\n",
              "      <td>3</td>\n",
              "      <td>No Deposit</td>\n",
              "      <td>NaN</td>\n",
              "      <td>NaN</td>\n",
              "      <td>0</td>\n",
              "      <td>Transient</td>\n",
              "      <td>0.0</td>\n",
              "      <td>0</td>\n",
              "      <td>0</td>\n",
              "      <td>Check-Out</td>\n",
              "      <td>7/1/2015</td>\n",
              "    </tr>\n",
              "    <tr>\n",
              "      <th>1</th>\n",
              "      <td>Resort Hotel</td>\n",
              "      <td>0</td>\n",
              "      <td>737</td>\n",
              "      <td>2015</td>\n",
              "      <td>July</td>\n",
              "      <td>27</td>\n",
              "      <td>1</td>\n",
              "      <td>0</td>\n",
              "      <td>0</td>\n",
              "      <td>2</td>\n",
              "      <td>0.0</td>\n",
              "      <td>0</td>\n",
              "      <td>BB</td>\n",
              "      <td>PRT</td>\n",
              "      <td>Direct</td>\n",
              "      <td>Direct</td>\n",
              "      <td>0</td>\n",
              "      <td>0</td>\n",
              "      <td>0</td>\n",
              "      <td>C</td>\n",
              "      <td>C</td>\n",
              "      <td>4</td>\n",
              "      <td>No Deposit</td>\n",
              "      <td>NaN</td>\n",
              "      <td>NaN</td>\n",
              "      <td>0</td>\n",
              "      <td>Transient</td>\n",
              "      <td>0.0</td>\n",
              "      <td>0</td>\n",
              "      <td>0</td>\n",
              "      <td>Check-Out</td>\n",
              "      <td>7/1/2015</td>\n",
              "    </tr>\n",
              "    <tr>\n",
              "      <th>2</th>\n",
              "      <td>Resort Hotel</td>\n",
              "      <td>0</td>\n",
              "      <td>7</td>\n",
              "      <td>2015</td>\n",
              "      <td>July</td>\n",
              "      <td>27</td>\n",
              "      <td>1</td>\n",
              "      <td>0</td>\n",
              "      <td>1</td>\n",
              "      <td>1</td>\n",
              "      <td>0.0</td>\n",
              "      <td>0</td>\n",
              "      <td>BB</td>\n",
              "      <td>GBR</td>\n",
              "      <td>Direct</td>\n",
              "      <td>Direct</td>\n",
              "      <td>0</td>\n",
              "      <td>0</td>\n",
              "      <td>0</td>\n",
              "      <td>A</td>\n",
              "      <td>C</td>\n",
              "      <td>0</td>\n",
              "      <td>No Deposit</td>\n",
              "      <td>NaN</td>\n",
              "      <td>NaN</td>\n",
              "      <td>0</td>\n",
              "      <td>Transient</td>\n",
              "      <td>75.0</td>\n",
              "      <td>0</td>\n",
              "      <td>0</td>\n",
              "      <td>Check-Out</td>\n",
              "      <td>7/2/2015</td>\n",
              "    </tr>\n",
              "    <tr>\n",
              "      <th>3</th>\n",
              "      <td>Resort Hotel</td>\n",
              "      <td>0</td>\n",
              "      <td>13</td>\n",
              "      <td>2015</td>\n",
              "      <td>July</td>\n",
              "      <td>27</td>\n",
              "      <td>1</td>\n",
              "      <td>0</td>\n",
              "      <td>1</td>\n",
              "      <td>1</td>\n",
              "      <td>0.0</td>\n",
              "      <td>0</td>\n",
              "      <td>BB</td>\n",
              "      <td>GBR</td>\n",
              "      <td>Corporate</td>\n",
              "      <td>Corporate</td>\n",
              "      <td>0</td>\n",
              "      <td>0</td>\n",
              "      <td>0</td>\n",
              "      <td>A</td>\n",
              "      <td>A</td>\n",
              "      <td>0</td>\n",
              "      <td>No Deposit</td>\n",
              "      <td>304.0</td>\n",
              "      <td>NaN</td>\n",
              "      <td>0</td>\n",
              "      <td>Transient</td>\n",
              "      <td>75.0</td>\n",
              "      <td>0</td>\n",
              "      <td>0</td>\n",
              "      <td>Check-Out</td>\n",
              "      <td>7/2/2015</td>\n",
              "    </tr>\n",
              "    <tr>\n",
              "      <th>4</th>\n",
              "      <td>Resort Hotel</td>\n",
              "      <td>0</td>\n",
              "      <td>14</td>\n",
              "      <td>2015</td>\n",
              "      <td>July</td>\n",
              "      <td>27</td>\n",
              "      <td>1</td>\n",
              "      <td>0</td>\n",
              "      <td>2</td>\n",
              "      <td>2</td>\n",
              "      <td>0.0</td>\n",
              "      <td>0</td>\n",
              "      <td>BB</td>\n",
              "      <td>GBR</td>\n",
              "      <td>Online TA</td>\n",
              "      <td>TA/TO</td>\n",
              "      <td>0</td>\n",
              "      <td>0</td>\n",
              "      <td>0</td>\n",
              "      <td>A</td>\n",
              "      <td>A</td>\n",
              "      <td>0</td>\n",
              "      <td>No Deposit</td>\n",
              "      <td>240.0</td>\n",
              "      <td>NaN</td>\n",
              "      <td>0</td>\n",
              "      <td>Transient</td>\n",
              "      <td>98.0</td>\n",
              "      <td>0</td>\n",
              "      <td>1</td>\n",
              "      <td>Check-Out</td>\n",
              "      <td>7/3/2015</td>\n",
              "    </tr>\n",
              "  </tbody>\n",
              "</table>\n",
              "</div>"
            ],
            "text/plain": [
              "          hotel  is_canceled  ...  reservation_status  reservation_status_date\n",
              "0  Resort Hotel            0  ...           Check-Out                 7/1/2015\n",
              "1  Resort Hotel            0  ...           Check-Out                 7/1/2015\n",
              "2  Resort Hotel            0  ...           Check-Out                 7/2/2015\n",
              "3  Resort Hotel            0  ...           Check-Out                 7/2/2015\n",
              "4  Resort Hotel            0  ...           Check-Out                 7/3/2015\n",
              "\n",
              "[5 rows x 32 columns]"
            ]
          },
          "metadata": {},
          "execution_count": 3
        }
      ]
    },
    {
      "cell_type": "code",
      "metadata": {
        "id": "CbMLHgUObQIY",
        "colab": {
          "base_uri": "https://localhost:8080/",
          "height": 312
        },
        "outputId": "c7414ad1-a2aa-465d-d9f9-0e870871bff2"
      },
      "source": [
        "df.tail()"
      ],
      "execution_count": null,
      "outputs": [
        {
          "output_type": "execute_result",
          "data": {
            "text/html": [
              "<div>\n",
              "<style scoped>\n",
              "    .dataframe tbody tr th:only-of-type {\n",
              "        vertical-align: middle;\n",
              "    }\n",
              "\n",
              "    .dataframe tbody tr th {\n",
              "        vertical-align: top;\n",
              "    }\n",
              "\n",
              "    .dataframe thead th {\n",
              "        text-align: right;\n",
              "    }\n",
              "</style>\n",
              "<table border=\"1\" class=\"dataframe\">\n",
              "  <thead>\n",
              "    <tr style=\"text-align: right;\">\n",
              "      <th></th>\n",
              "      <th>hotel</th>\n",
              "      <th>is_canceled</th>\n",
              "      <th>lead_time</th>\n",
              "      <th>arrival_date_year</th>\n",
              "      <th>arrival_date_month</th>\n",
              "      <th>arrival_date_week_number</th>\n",
              "      <th>arrival_date_day_of_month</th>\n",
              "      <th>stays_in_weekend_nights</th>\n",
              "      <th>stays_in_week_nights</th>\n",
              "      <th>adults</th>\n",
              "      <th>children</th>\n",
              "      <th>babies</th>\n",
              "      <th>meal</th>\n",
              "      <th>country</th>\n",
              "      <th>market_segment</th>\n",
              "      <th>distribution_channel</th>\n",
              "      <th>is_repeated_guest</th>\n",
              "      <th>previous_cancellations</th>\n",
              "      <th>previous_bookings_not_canceled</th>\n",
              "      <th>reserved_room_type</th>\n",
              "      <th>assigned_room_type</th>\n",
              "      <th>booking_changes</th>\n",
              "      <th>deposit_type</th>\n",
              "      <th>agent</th>\n",
              "      <th>company</th>\n",
              "      <th>days_in_waiting_list</th>\n",
              "      <th>customer_type</th>\n",
              "      <th>adr</th>\n",
              "      <th>required_car_parking_spaces</th>\n",
              "      <th>total_of_special_requests</th>\n",
              "      <th>reservation_status</th>\n",
              "      <th>reservation_status_date</th>\n",
              "    </tr>\n",
              "  </thead>\n",
              "  <tbody>\n",
              "    <tr>\n",
              "      <th>119385</th>\n",
              "      <td>City Hotel</td>\n",
              "      <td>0</td>\n",
              "      <td>23</td>\n",
              "      <td>2017</td>\n",
              "      <td>August</td>\n",
              "      <td>35</td>\n",
              "      <td>30</td>\n",
              "      <td>2</td>\n",
              "      <td>5</td>\n",
              "      <td>2</td>\n",
              "      <td>0.0</td>\n",
              "      <td>0</td>\n",
              "      <td>BB</td>\n",
              "      <td>BEL</td>\n",
              "      <td>Offline TA/TO</td>\n",
              "      <td>TA/TO</td>\n",
              "      <td>0</td>\n",
              "      <td>0</td>\n",
              "      <td>0</td>\n",
              "      <td>A</td>\n",
              "      <td>A</td>\n",
              "      <td>0</td>\n",
              "      <td>No Deposit</td>\n",
              "      <td>394.0</td>\n",
              "      <td>NaN</td>\n",
              "      <td>0</td>\n",
              "      <td>Transient</td>\n",
              "      <td>96.14</td>\n",
              "      <td>0</td>\n",
              "      <td>0</td>\n",
              "      <td>Check-Out</td>\n",
              "      <td>9/6/2017</td>\n",
              "    </tr>\n",
              "    <tr>\n",
              "      <th>119386</th>\n",
              "      <td>City Hotel</td>\n",
              "      <td>0</td>\n",
              "      <td>102</td>\n",
              "      <td>2017</td>\n",
              "      <td>August</td>\n",
              "      <td>35</td>\n",
              "      <td>31</td>\n",
              "      <td>2</td>\n",
              "      <td>5</td>\n",
              "      <td>3</td>\n",
              "      <td>0.0</td>\n",
              "      <td>0</td>\n",
              "      <td>BB</td>\n",
              "      <td>FRA</td>\n",
              "      <td>Online TA</td>\n",
              "      <td>TA/TO</td>\n",
              "      <td>0</td>\n",
              "      <td>0</td>\n",
              "      <td>0</td>\n",
              "      <td>E</td>\n",
              "      <td>E</td>\n",
              "      <td>0</td>\n",
              "      <td>No Deposit</td>\n",
              "      <td>9.0</td>\n",
              "      <td>NaN</td>\n",
              "      <td>0</td>\n",
              "      <td>Transient</td>\n",
              "      <td>225.43</td>\n",
              "      <td>0</td>\n",
              "      <td>2</td>\n",
              "      <td>Check-Out</td>\n",
              "      <td>9/7/2017</td>\n",
              "    </tr>\n",
              "    <tr>\n",
              "      <th>119387</th>\n",
              "      <td>City Hotel</td>\n",
              "      <td>0</td>\n",
              "      <td>34</td>\n",
              "      <td>2017</td>\n",
              "      <td>August</td>\n",
              "      <td>35</td>\n",
              "      <td>31</td>\n",
              "      <td>2</td>\n",
              "      <td>5</td>\n",
              "      <td>2</td>\n",
              "      <td>0.0</td>\n",
              "      <td>0</td>\n",
              "      <td>BB</td>\n",
              "      <td>DEU</td>\n",
              "      <td>Online TA</td>\n",
              "      <td>TA/TO</td>\n",
              "      <td>0</td>\n",
              "      <td>0</td>\n",
              "      <td>0</td>\n",
              "      <td>D</td>\n",
              "      <td>D</td>\n",
              "      <td>0</td>\n",
              "      <td>No Deposit</td>\n",
              "      <td>9.0</td>\n",
              "      <td>NaN</td>\n",
              "      <td>0</td>\n",
              "      <td>Transient</td>\n",
              "      <td>157.71</td>\n",
              "      <td>0</td>\n",
              "      <td>4</td>\n",
              "      <td>Check-Out</td>\n",
              "      <td>9/7/2017</td>\n",
              "    </tr>\n",
              "    <tr>\n",
              "      <th>119388</th>\n",
              "      <td>City Hotel</td>\n",
              "      <td>0</td>\n",
              "      <td>109</td>\n",
              "      <td>2017</td>\n",
              "      <td>August</td>\n",
              "      <td>35</td>\n",
              "      <td>31</td>\n",
              "      <td>2</td>\n",
              "      <td>5</td>\n",
              "      <td>2</td>\n",
              "      <td>0.0</td>\n",
              "      <td>0</td>\n",
              "      <td>BB</td>\n",
              "      <td>GBR</td>\n",
              "      <td>Online TA</td>\n",
              "      <td>TA/TO</td>\n",
              "      <td>0</td>\n",
              "      <td>0</td>\n",
              "      <td>0</td>\n",
              "      <td>A</td>\n",
              "      <td>A</td>\n",
              "      <td>0</td>\n",
              "      <td>No Deposit</td>\n",
              "      <td>89.0</td>\n",
              "      <td>NaN</td>\n",
              "      <td>0</td>\n",
              "      <td>Transient</td>\n",
              "      <td>104.40</td>\n",
              "      <td>0</td>\n",
              "      <td>0</td>\n",
              "      <td>Check-Out</td>\n",
              "      <td>9/7/2017</td>\n",
              "    </tr>\n",
              "    <tr>\n",
              "      <th>119389</th>\n",
              "      <td>City Hotel</td>\n",
              "      <td>0</td>\n",
              "      <td>205</td>\n",
              "      <td>2017</td>\n",
              "      <td>August</td>\n",
              "      <td>35</td>\n",
              "      <td>29</td>\n",
              "      <td>2</td>\n",
              "      <td>7</td>\n",
              "      <td>2</td>\n",
              "      <td>0.0</td>\n",
              "      <td>0</td>\n",
              "      <td>HB</td>\n",
              "      <td>DEU</td>\n",
              "      <td>Online TA</td>\n",
              "      <td>TA/TO</td>\n",
              "      <td>0</td>\n",
              "      <td>0</td>\n",
              "      <td>0</td>\n",
              "      <td>A</td>\n",
              "      <td>A</td>\n",
              "      <td>0</td>\n",
              "      <td>No Deposit</td>\n",
              "      <td>9.0</td>\n",
              "      <td>NaN</td>\n",
              "      <td>0</td>\n",
              "      <td>Transient</td>\n",
              "      <td>151.20</td>\n",
              "      <td>0</td>\n",
              "      <td>2</td>\n",
              "      <td>Check-Out</td>\n",
              "      <td>9/7/2017</td>\n",
              "    </tr>\n",
              "  </tbody>\n",
              "</table>\n",
              "</div>"
            ],
            "text/plain": [
              "             hotel  is_canceled  ...  reservation_status  reservation_status_date\n",
              "119385  City Hotel            0  ...           Check-Out                 9/6/2017\n",
              "119386  City Hotel            0  ...           Check-Out                 9/7/2017\n",
              "119387  City Hotel            0  ...           Check-Out                 9/7/2017\n",
              "119388  City Hotel            0  ...           Check-Out                 9/7/2017\n",
              "119389  City Hotel            0  ...           Check-Out                 9/7/2017\n",
              "\n",
              "[5 rows x 32 columns]"
            ]
          },
          "metadata": {},
          "execution_count": 4
        }
      ]
    },
    {
      "cell_type": "code",
      "metadata": {
        "id": "XB9_vrx1bUZj",
        "colab": {
          "base_uri": "https://localhost:8080/"
        },
        "outputId": "f561f30b-2c72-499e-81f5-e002058644f0"
      },
      "source": [
        "#checking the number of rows and columns\n",
        "df.shape"
      ],
      "execution_count": null,
      "outputs": [
        {
          "output_type": "execute_result",
          "data": {
            "text/plain": [
              "(119390, 32)"
            ]
          },
          "metadata": {},
          "execution_count": 5
        }
      ]
    },
    {
      "cell_type": "code",
      "metadata": {
        "id": "v-SaPo9M_bbx",
        "colab": {
          "base_uri": "https://localhost:8080/"
        },
        "outputId": "0c0dcdce-6ace-4d6a-d1d8-e336b4cdc586"
      },
      "source": [
        "df.info()"
      ],
      "execution_count": null,
      "outputs": [
        {
          "output_type": "stream",
          "name": "stdout",
          "text": [
            "<class 'pandas.core.frame.DataFrame'>\n",
            "RangeIndex: 119390 entries, 0 to 119389\n",
            "Data columns (total 32 columns):\n",
            " #   Column                          Non-Null Count   Dtype  \n",
            "---  ------                          --------------   -----  \n",
            " 0   hotel                           119390 non-null  object \n",
            " 1   is_canceled                     119390 non-null  int64  \n",
            " 2   lead_time                       119390 non-null  int64  \n",
            " 3   arrival_date_year               119390 non-null  int64  \n",
            " 4   arrival_date_month              119390 non-null  object \n",
            " 5   arrival_date_week_number        119390 non-null  int64  \n",
            " 6   arrival_date_day_of_month       119390 non-null  int64  \n",
            " 7   stays_in_weekend_nights         119390 non-null  int64  \n",
            " 8   stays_in_week_nights            119390 non-null  int64  \n",
            " 9   adults                          119390 non-null  int64  \n",
            " 10  children                        119386 non-null  float64\n",
            " 11  babies                          119390 non-null  int64  \n",
            " 12  meal                            119390 non-null  object \n",
            " 13  country                         118902 non-null  object \n",
            " 14  market_segment                  119390 non-null  object \n",
            " 15  distribution_channel            119390 non-null  object \n",
            " 16  is_repeated_guest               119390 non-null  int64  \n",
            " 17  previous_cancellations          119390 non-null  int64  \n",
            " 18  previous_bookings_not_canceled  119390 non-null  int64  \n",
            " 19  reserved_room_type              119390 non-null  object \n",
            " 20  assigned_room_type              119390 non-null  object \n",
            " 21  booking_changes                 119390 non-null  int64  \n",
            " 22  deposit_type                    119390 non-null  object \n",
            " 23  agent                           103050 non-null  float64\n",
            " 24  company                         6797 non-null    float64\n",
            " 25  days_in_waiting_list            119390 non-null  int64  \n",
            " 26  customer_type                   119390 non-null  object \n",
            " 27  adr                             119390 non-null  float64\n",
            " 28  required_car_parking_spaces     119390 non-null  int64  \n",
            " 29  total_of_special_requests       119390 non-null  int64  \n",
            " 30  reservation_status              119390 non-null  object \n",
            " 31  reservation_status_date         119390 non-null  object \n",
            "dtypes: float64(4), int64(16), object(12)\n",
            "memory usage: 29.1+ MB\n"
          ]
        }
      ]
    },
    {
      "cell_type": "code",
      "metadata": {
        "id": "_XUsydOAB9m-",
        "colab": {
          "base_uri": "https://localhost:8080/",
          "height": 319
        },
        "outputId": "91810b1b-76c1-4ca0-a697-c617d99abb44"
      },
      "source": [
        "df.describe()"
      ],
      "execution_count": null,
      "outputs": [
        {
          "output_type": "execute_result",
          "data": {
            "text/html": [
              "<div>\n",
              "<style scoped>\n",
              "    .dataframe tbody tr th:only-of-type {\n",
              "        vertical-align: middle;\n",
              "    }\n",
              "\n",
              "    .dataframe tbody tr th {\n",
              "        vertical-align: top;\n",
              "    }\n",
              "\n",
              "    .dataframe thead th {\n",
              "        text-align: right;\n",
              "    }\n",
              "</style>\n",
              "<table border=\"1\" class=\"dataframe\">\n",
              "  <thead>\n",
              "    <tr style=\"text-align: right;\">\n",
              "      <th></th>\n",
              "      <th>is_canceled</th>\n",
              "      <th>lead_time</th>\n",
              "      <th>arrival_date_year</th>\n",
              "      <th>arrival_date_week_number</th>\n",
              "      <th>arrival_date_day_of_month</th>\n",
              "      <th>stays_in_weekend_nights</th>\n",
              "      <th>stays_in_week_nights</th>\n",
              "      <th>adults</th>\n",
              "      <th>children</th>\n",
              "      <th>babies</th>\n",
              "      <th>is_repeated_guest</th>\n",
              "      <th>previous_cancellations</th>\n",
              "      <th>previous_bookings_not_canceled</th>\n",
              "      <th>booking_changes</th>\n",
              "      <th>agent</th>\n",
              "      <th>company</th>\n",
              "      <th>days_in_waiting_list</th>\n",
              "      <th>adr</th>\n",
              "      <th>required_car_parking_spaces</th>\n",
              "      <th>total_of_special_requests</th>\n",
              "    </tr>\n",
              "  </thead>\n",
              "  <tbody>\n",
              "    <tr>\n",
              "      <th>count</th>\n",
              "      <td>119390.000000</td>\n",
              "      <td>119390.000000</td>\n",
              "      <td>119390.000000</td>\n",
              "      <td>119390.000000</td>\n",
              "      <td>119390.000000</td>\n",
              "      <td>119390.000000</td>\n",
              "      <td>119390.000000</td>\n",
              "      <td>119390.000000</td>\n",
              "      <td>119386.000000</td>\n",
              "      <td>119390.000000</td>\n",
              "      <td>119390.000000</td>\n",
              "      <td>119390.000000</td>\n",
              "      <td>119390.000000</td>\n",
              "      <td>119390.000000</td>\n",
              "      <td>103050.000000</td>\n",
              "      <td>6797.000000</td>\n",
              "      <td>119390.000000</td>\n",
              "      <td>119390.000000</td>\n",
              "      <td>119390.000000</td>\n",
              "      <td>119390.000000</td>\n",
              "    </tr>\n",
              "    <tr>\n",
              "      <th>mean</th>\n",
              "      <td>0.370416</td>\n",
              "      <td>104.011416</td>\n",
              "      <td>2016.156554</td>\n",
              "      <td>27.165173</td>\n",
              "      <td>15.798241</td>\n",
              "      <td>0.927599</td>\n",
              "      <td>2.500302</td>\n",
              "      <td>1.856403</td>\n",
              "      <td>0.103890</td>\n",
              "      <td>0.007949</td>\n",
              "      <td>0.031912</td>\n",
              "      <td>0.087118</td>\n",
              "      <td>0.137097</td>\n",
              "      <td>0.221124</td>\n",
              "      <td>86.693382</td>\n",
              "      <td>189.266735</td>\n",
              "      <td>2.321149</td>\n",
              "      <td>101.831122</td>\n",
              "      <td>0.062518</td>\n",
              "      <td>0.571363</td>\n",
              "    </tr>\n",
              "    <tr>\n",
              "      <th>std</th>\n",
              "      <td>0.482918</td>\n",
              "      <td>106.863097</td>\n",
              "      <td>0.707476</td>\n",
              "      <td>13.605138</td>\n",
              "      <td>8.780829</td>\n",
              "      <td>0.998613</td>\n",
              "      <td>1.908286</td>\n",
              "      <td>0.579261</td>\n",
              "      <td>0.398561</td>\n",
              "      <td>0.097436</td>\n",
              "      <td>0.175767</td>\n",
              "      <td>0.844336</td>\n",
              "      <td>1.497437</td>\n",
              "      <td>0.652306</td>\n",
              "      <td>110.774548</td>\n",
              "      <td>131.655015</td>\n",
              "      <td>17.594721</td>\n",
              "      <td>50.535790</td>\n",
              "      <td>0.245291</td>\n",
              "      <td>0.792798</td>\n",
              "    </tr>\n",
              "    <tr>\n",
              "      <th>min</th>\n",
              "      <td>0.000000</td>\n",
              "      <td>0.000000</td>\n",
              "      <td>2015.000000</td>\n",
              "      <td>1.000000</td>\n",
              "      <td>1.000000</td>\n",
              "      <td>0.000000</td>\n",
              "      <td>0.000000</td>\n",
              "      <td>0.000000</td>\n",
              "      <td>0.000000</td>\n",
              "      <td>0.000000</td>\n",
              "      <td>0.000000</td>\n",
              "      <td>0.000000</td>\n",
              "      <td>0.000000</td>\n",
              "      <td>0.000000</td>\n",
              "      <td>1.000000</td>\n",
              "      <td>6.000000</td>\n",
              "      <td>0.000000</td>\n",
              "      <td>-6.380000</td>\n",
              "      <td>0.000000</td>\n",
              "      <td>0.000000</td>\n",
              "    </tr>\n",
              "    <tr>\n",
              "      <th>25%</th>\n",
              "      <td>0.000000</td>\n",
              "      <td>18.000000</td>\n",
              "      <td>2016.000000</td>\n",
              "      <td>16.000000</td>\n",
              "      <td>8.000000</td>\n",
              "      <td>0.000000</td>\n",
              "      <td>1.000000</td>\n",
              "      <td>2.000000</td>\n",
              "      <td>0.000000</td>\n",
              "      <td>0.000000</td>\n",
              "      <td>0.000000</td>\n",
              "      <td>0.000000</td>\n",
              "      <td>0.000000</td>\n",
              "      <td>0.000000</td>\n",
              "      <td>9.000000</td>\n",
              "      <td>62.000000</td>\n",
              "      <td>0.000000</td>\n",
              "      <td>69.290000</td>\n",
              "      <td>0.000000</td>\n",
              "      <td>0.000000</td>\n",
              "    </tr>\n",
              "    <tr>\n",
              "      <th>50%</th>\n",
              "      <td>0.000000</td>\n",
              "      <td>69.000000</td>\n",
              "      <td>2016.000000</td>\n",
              "      <td>28.000000</td>\n",
              "      <td>16.000000</td>\n",
              "      <td>1.000000</td>\n",
              "      <td>2.000000</td>\n",
              "      <td>2.000000</td>\n",
              "      <td>0.000000</td>\n",
              "      <td>0.000000</td>\n",
              "      <td>0.000000</td>\n",
              "      <td>0.000000</td>\n",
              "      <td>0.000000</td>\n",
              "      <td>0.000000</td>\n",
              "      <td>14.000000</td>\n",
              "      <td>179.000000</td>\n",
              "      <td>0.000000</td>\n",
              "      <td>94.575000</td>\n",
              "      <td>0.000000</td>\n",
              "      <td>0.000000</td>\n",
              "    </tr>\n",
              "    <tr>\n",
              "      <th>75%</th>\n",
              "      <td>1.000000</td>\n",
              "      <td>160.000000</td>\n",
              "      <td>2017.000000</td>\n",
              "      <td>38.000000</td>\n",
              "      <td>23.000000</td>\n",
              "      <td>2.000000</td>\n",
              "      <td>3.000000</td>\n",
              "      <td>2.000000</td>\n",
              "      <td>0.000000</td>\n",
              "      <td>0.000000</td>\n",
              "      <td>0.000000</td>\n",
              "      <td>0.000000</td>\n",
              "      <td>0.000000</td>\n",
              "      <td>0.000000</td>\n",
              "      <td>229.000000</td>\n",
              "      <td>270.000000</td>\n",
              "      <td>0.000000</td>\n",
              "      <td>126.000000</td>\n",
              "      <td>0.000000</td>\n",
              "      <td>1.000000</td>\n",
              "    </tr>\n",
              "    <tr>\n",
              "      <th>max</th>\n",
              "      <td>1.000000</td>\n",
              "      <td>737.000000</td>\n",
              "      <td>2017.000000</td>\n",
              "      <td>53.000000</td>\n",
              "      <td>31.000000</td>\n",
              "      <td>19.000000</td>\n",
              "      <td>50.000000</td>\n",
              "      <td>55.000000</td>\n",
              "      <td>10.000000</td>\n",
              "      <td>10.000000</td>\n",
              "      <td>1.000000</td>\n",
              "      <td>26.000000</td>\n",
              "      <td>72.000000</td>\n",
              "      <td>21.000000</td>\n",
              "      <td>535.000000</td>\n",
              "      <td>543.000000</td>\n",
              "      <td>391.000000</td>\n",
              "      <td>5400.000000</td>\n",
              "      <td>8.000000</td>\n",
              "      <td>5.000000</td>\n",
              "    </tr>\n",
              "  </tbody>\n",
              "</table>\n",
              "</div>"
            ],
            "text/plain": [
              "         is_canceled  ...  total_of_special_requests\n",
              "count  119390.000000  ...              119390.000000\n",
              "mean        0.370416  ...                   0.571363\n",
              "std         0.482918  ...                   0.792798\n",
              "min         0.000000  ...                   0.000000\n",
              "25%         0.000000  ...                   0.000000\n",
              "50%         0.000000  ...                   0.000000\n",
              "75%         1.000000  ...                   1.000000\n",
              "max         1.000000  ...                   5.000000\n",
              "\n",
              "[8 rows x 20 columns]"
            ]
          },
          "metadata": {},
          "execution_count": 7
        }
      ]
    },
    {
      "cell_type": "markdown",
      "metadata": {
        "id": "ZXxH-dyRPrH9"
      },
      "source": [
        "###Checking for null values in the data###"
      ]
    },
    {
      "cell_type": "code",
      "metadata": {
        "id": "8DmZqajD_-RH",
        "colab": {
          "base_uri": "https://localhost:8080/",
          "height": 1000
        },
        "outputId": "f4190126-3a72-4c68-d362-9b61b1d70d4d"
      },
      "source": [
        "#finding the column that have null values \n",
        "null_values = pd.DataFrame({'Null_Values' : df.isna().sum(), 'Percentage_Null_Values' : round((df.isna().sum()) / (df.shape[0]) * (100),2)})\n",
        "null_values"
      ],
      "execution_count": null,
      "outputs": [
        {
          "output_type": "execute_result",
          "data": {
            "text/html": [
              "<div>\n",
              "<style scoped>\n",
              "    .dataframe tbody tr th:only-of-type {\n",
              "        vertical-align: middle;\n",
              "    }\n",
              "\n",
              "    .dataframe tbody tr th {\n",
              "        vertical-align: top;\n",
              "    }\n",
              "\n",
              "    .dataframe thead th {\n",
              "        text-align: right;\n",
              "    }\n",
              "</style>\n",
              "<table border=\"1\" class=\"dataframe\">\n",
              "  <thead>\n",
              "    <tr style=\"text-align: right;\">\n",
              "      <th></th>\n",
              "      <th>Null_Values</th>\n",
              "      <th>Percentage_Null_Values</th>\n",
              "    </tr>\n",
              "  </thead>\n",
              "  <tbody>\n",
              "    <tr>\n",
              "      <th>hotel</th>\n",
              "      <td>0</td>\n",
              "      <td>0.00</td>\n",
              "    </tr>\n",
              "    <tr>\n",
              "      <th>is_canceled</th>\n",
              "      <td>0</td>\n",
              "      <td>0.00</td>\n",
              "    </tr>\n",
              "    <tr>\n",
              "      <th>lead_time</th>\n",
              "      <td>0</td>\n",
              "      <td>0.00</td>\n",
              "    </tr>\n",
              "    <tr>\n",
              "      <th>arrival_date_year</th>\n",
              "      <td>0</td>\n",
              "      <td>0.00</td>\n",
              "    </tr>\n",
              "    <tr>\n",
              "      <th>arrival_date_month</th>\n",
              "      <td>0</td>\n",
              "      <td>0.00</td>\n",
              "    </tr>\n",
              "    <tr>\n",
              "      <th>arrival_date_week_number</th>\n",
              "      <td>0</td>\n",
              "      <td>0.00</td>\n",
              "    </tr>\n",
              "    <tr>\n",
              "      <th>arrival_date_day_of_month</th>\n",
              "      <td>0</td>\n",
              "      <td>0.00</td>\n",
              "    </tr>\n",
              "    <tr>\n",
              "      <th>stays_in_weekend_nights</th>\n",
              "      <td>0</td>\n",
              "      <td>0.00</td>\n",
              "    </tr>\n",
              "    <tr>\n",
              "      <th>stays_in_week_nights</th>\n",
              "      <td>0</td>\n",
              "      <td>0.00</td>\n",
              "    </tr>\n",
              "    <tr>\n",
              "      <th>adults</th>\n",
              "      <td>0</td>\n",
              "      <td>0.00</td>\n",
              "    </tr>\n",
              "    <tr>\n",
              "      <th>children</th>\n",
              "      <td>4</td>\n",
              "      <td>0.00</td>\n",
              "    </tr>\n",
              "    <tr>\n",
              "      <th>babies</th>\n",
              "      <td>0</td>\n",
              "      <td>0.00</td>\n",
              "    </tr>\n",
              "    <tr>\n",
              "      <th>meal</th>\n",
              "      <td>0</td>\n",
              "      <td>0.00</td>\n",
              "    </tr>\n",
              "    <tr>\n",
              "      <th>country</th>\n",
              "      <td>488</td>\n",
              "      <td>0.41</td>\n",
              "    </tr>\n",
              "    <tr>\n",
              "      <th>market_segment</th>\n",
              "      <td>0</td>\n",
              "      <td>0.00</td>\n",
              "    </tr>\n",
              "    <tr>\n",
              "      <th>distribution_channel</th>\n",
              "      <td>0</td>\n",
              "      <td>0.00</td>\n",
              "    </tr>\n",
              "    <tr>\n",
              "      <th>is_repeated_guest</th>\n",
              "      <td>0</td>\n",
              "      <td>0.00</td>\n",
              "    </tr>\n",
              "    <tr>\n",
              "      <th>previous_cancellations</th>\n",
              "      <td>0</td>\n",
              "      <td>0.00</td>\n",
              "    </tr>\n",
              "    <tr>\n",
              "      <th>previous_bookings_not_canceled</th>\n",
              "      <td>0</td>\n",
              "      <td>0.00</td>\n",
              "    </tr>\n",
              "    <tr>\n",
              "      <th>reserved_room_type</th>\n",
              "      <td>0</td>\n",
              "      <td>0.00</td>\n",
              "    </tr>\n",
              "    <tr>\n",
              "      <th>assigned_room_type</th>\n",
              "      <td>0</td>\n",
              "      <td>0.00</td>\n",
              "    </tr>\n",
              "    <tr>\n",
              "      <th>booking_changes</th>\n",
              "      <td>0</td>\n",
              "      <td>0.00</td>\n",
              "    </tr>\n",
              "    <tr>\n",
              "      <th>deposit_type</th>\n",
              "      <td>0</td>\n",
              "      <td>0.00</td>\n",
              "    </tr>\n",
              "    <tr>\n",
              "      <th>agent</th>\n",
              "      <td>16340</td>\n",
              "      <td>13.69</td>\n",
              "    </tr>\n",
              "    <tr>\n",
              "      <th>company</th>\n",
              "      <td>112593</td>\n",
              "      <td>94.31</td>\n",
              "    </tr>\n",
              "    <tr>\n",
              "      <th>days_in_waiting_list</th>\n",
              "      <td>0</td>\n",
              "      <td>0.00</td>\n",
              "    </tr>\n",
              "    <tr>\n",
              "      <th>customer_type</th>\n",
              "      <td>0</td>\n",
              "      <td>0.00</td>\n",
              "    </tr>\n",
              "    <tr>\n",
              "      <th>adr</th>\n",
              "      <td>0</td>\n",
              "      <td>0.00</td>\n",
              "    </tr>\n",
              "    <tr>\n",
              "      <th>required_car_parking_spaces</th>\n",
              "      <td>0</td>\n",
              "      <td>0.00</td>\n",
              "    </tr>\n",
              "    <tr>\n",
              "      <th>total_of_special_requests</th>\n",
              "      <td>0</td>\n",
              "      <td>0.00</td>\n",
              "    </tr>\n",
              "    <tr>\n",
              "      <th>reservation_status</th>\n",
              "      <td>0</td>\n",
              "      <td>0.00</td>\n",
              "    </tr>\n",
              "    <tr>\n",
              "      <th>reservation_status_date</th>\n",
              "      <td>0</td>\n",
              "      <td>0.00</td>\n",
              "    </tr>\n",
              "  </tbody>\n",
              "</table>\n",
              "</div>"
            ],
            "text/plain": [
              "                                Null_Values  Percentage_Null_Values\n",
              "hotel                                     0                    0.00\n",
              "is_canceled                               0                    0.00\n",
              "lead_time                                 0                    0.00\n",
              "arrival_date_year                         0                    0.00\n",
              "arrival_date_month                        0                    0.00\n",
              "arrival_date_week_number                  0                    0.00\n",
              "arrival_date_day_of_month                 0                    0.00\n",
              "stays_in_weekend_nights                   0                    0.00\n",
              "stays_in_week_nights                      0                    0.00\n",
              "adults                                    0                    0.00\n",
              "children                                  4                    0.00\n",
              "babies                                    0                    0.00\n",
              "meal                                      0                    0.00\n",
              "country                                 488                    0.41\n",
              "market_segment                            0                    0.00\n",
              "distribution_channel                      0                    0.00\n",
              "is_repeated_guest                         0                    0.00\n",
              "previous_cancellations                    0                    0.00\n",
              "previous_bookings_not_canceled            0                    0.00\n",
              "reserved_room_type                        0                    0.00\n",
              "assigned_room_type                        0                    0.00\n",
              "booking_changes                           0                    0.00\n",
              "deposit_type                              0                    0.00\n",
              "agent                                 16340                   13.69\n",
              "company                              112593                   94.31\n",
              "days_in_waiting_list                      0                    0.00\n",
              "customer_type                             0                    0.00\n",
              "adr                                       0                    0.00\n",
              "required_car_parking_spaces               0                    0.00\n",
              "total_of_special_requests                 0                    0.00\n",
              "reservation_status                        0                    0.00\n",
              "reservation_status_date                   0                    0.00"
            ]
          },
          "metadata": {},
          "execution_count": 8
        }
      ]
    },
    {
      "cell_type": "markdown",
      "metadata": {
        "id": "hKJ8xDLsELfD"
      },
      "source": [
        "Here we can see the agent and company columns has more number of null values which might affect our analysis"
      ]
    },
    {
      "cell_type": "markdown",
      "metadata": {
        "id": "P60xAiXrAxay"
      },
      "source": [
        "###Droping the columns\n"
      ]
    },
    {
      "cell_type": "code",
      "metadata": {
        "id": "oiQwFhBsAOEk"
      },
      "source": [
        "df.drop(['agent','company'],axis= 1,inplace= True)     #drop unnecessary coulmn"
      ],
      "execution_count": null,
      "outputs": []
    },
    {
      "cell_type": "markdown",
      "metadata": {
        "id": "Lh2qyTUBEnuV"
      },
      "source": [
        "So we are dropping the agent and company columns."
      ]
    },
    {
      "cell_type": "markdown",
      "metadata": {
        "id": "ya_Ahx0bDrTN"
      },
      "source": [
        "###Filling the columns with na values.###"
      ]
    },
    {
      "cell_type": "code",
      "metadata": {
        "id": "yEJz7vBTDlxy",
        "colab": {
          "base_uri": "https://localhost:8080/"
        },
        "outputId": "fc63e3de-2159-4f71-c5f8-39d540496983"
      },
      "source": [
        "#For missing values in country column,replace it with mode (value that appears most)\n",
        "df[\"country\"].fillna(df.country.mode().to_string(),inplace =True)\n",
        "\n",
        "#for missing children values,replace it with mean value \n",
        "df[\"children\"].fillna(round(df.children.mean()),inplace = True)\n",
        "\n",
        "df = df.dropna(axis = 0)\n",
        "df.isnull().sum()"
      ],
      "execution_count": null,
      "outputs": [
        {
          "output_type": "execute_result",
          "data": {
            "text/plain": [
              "hotel                             0\n",
              "is_canceled                       0\n",
              "lead_time                         0\n",
              "arrival_date_year                 0\n",
              "arrival_date_month                0\n",
              "arrival_date_week_number          0\n",
              "arrival_date_day_of_month         0\n",
              "stays_in_weekend_nights           0\n",
              "stays_in_week_nights              0\n",
              "adults                            0\n",
              "children                          0\n",
              "babies                            0\n",
              "meal                              0\n",
              "country                           0\n",
              "market_segment                    0\n",
              "distribution_channel              0\n",
              "is_repeated_guest                 0\n",
              "previous_cancellations            0\n",
              "previous_bookings_not_canceled    0\n",
              "reserved_room_type                0\n",
              "assigned_room_type                0\n",
              "booking_changes                   0\n",
              "deposit_type                      0\n",
              "days_in_waiting_list              0\n",
              "customer_type                     0\n",
              "adr                               0\n",
              "required_car_parking_spaces       0\n",
              "total_of_special_requests         0\n",
              "reservation_status                0\n",
              "reservation_status_date           0\n",
              "dtype: int64"
            ]
          },
          "metadata": {},
          "execution_count": 10
        }
      ]
    },
    {
      "cell_type": "markdown",
      "metadata": {
        "id": "17atEbSqFLav"
      },
      "source": [
        "Here we are replacing the na country cell with mode and children with mean.\n",
        "And finally we have done it and there is no na values in our data. "
      ]
    },
    {
      "cell_type": "markdown",
      "metadata": {
        "id": "otd2xEzQC0FG"
      },
      "source": [
        "###Checking for duplicates value###"
      ]
    },
    {
      "cell_type": "code",
      "metadata": {
        "colab": {
          "base_uri": "https://localhost:8080/"
        },
        "id": "8JKNxZhZC7cu",
        "outputId": "88e28fc4-875f-49fa-b7f3-c199ebfe5747"
      },
      "source": [
        "#check for duplicate data\n",
        "duplicate = df.duplicated()\n",
        "print(duplicate.value_counts())"
      ],
      "execution_count": null,
      "outputs": [
        {
          "output_type": "stream",
          "name": "stdout",
          "text": [
            "False    87370\n",
            "True     32020\n",
            "dtype: int64\n"
          ]
        }
      ]
    },
    {
      "cell_type": "markdown",
      "metadata": {
        "id": "qCVsStWXDCNj"
      },
      "source": [
        "There are 31994 duplicate values."
      ]
    },
    {
      "cell_type": "code",
      "metadata": {
        "id": "pM1xJkPdDAhA"
      },
      "source": [
        "#drop duplicate rows- if any\n",
        "df.drop_duplicates(inplace= True)"
      ],
      "execution_count": null,
      "outputs": []
    },
    {
      "cell_type": "code",
      "metadata": {
        "colab": {
          "base_uri": "https://localhost:8080/"
        },
        "id": "ceS-MNUIDC77",
        "outputId": "7af872eb-8c26-4669-d5cd-d7ae65356129"
      },
      "source": [
        "#check for duplicate data again\n",
        "df.duplicated().sum()"
      ],
      "execution_count": null,
      "outputs": [
        {
          "output_type": "execute_result",
          "data": {
            "text/plain": [
              "0"
            ]
          },
          "metadata": {},
          "execution_count": 13
        }
      ]
    },
    {
      "cell_type": "markdown",
      "metadata": {
        "id": "XJa7-x6CF0_p"
      },
      "source": [
        "As we can see there is no duplicate values in our data."
      ]
    },
    {
      "cell_type": "markdown",
      "metadata": {
        "id": "vTc2sHsJP_pu"
      },
      "source": [
        "###Identifying continuous and categorical columns###"
      ]
    },
    {
      "cell_type": "code",
      "metadata": {
        "colab": {
          "base_uri": "https://localhost:8080/"
        },
        "id": "iU7WBj_rP-Nl",
        "outputId": "b1d21379-29a1-42a7-a0e8-5b93f9535edc"
      },
      "source": [
        "def var(df):\n",
        "    unique_list_of_col = pd.DataFrame([[i,len(df[i].unique())] for i in df.columns]) #to get the number of unique rows\n",
        "    unique_list_of_col.columns = ['names','uniques']\n",
        "\n",
        "    cat_var = set(unique_list_of_col.names[(unique_list_of_col.uniques<=12)  | \n",
        "                                   (unique_list_of_col.names=='country')                                  \n",
        "                                  ]) #if the number of unique rows is less than 12 then it is categorical variable\n",
        "    total_var = set(df.columns)   #using set for distinct columns\n",
        "    con_var = total_var - cat_var  #to get continuous variable\n",
        "    \n",
        "    return cat_var, con_var\n",
        "\n",
        "\n",
        "cat_var, con_var = var(df)\n",
        "\n",
        "print(\"Continuous Variables is (\",len(con_var),\"):\\n\",con_var,'\\n\\n'\n",
        "       \"Categorical Variables is (\",len(cat_var),\"):\\n\",cat_var)"
      ],
      "execution_count": null,
      "outputs": [
        {
          "output_type": "stream",
          "name": "stdout",
          "text": [
            "Continuous Variables is ( 12 ):\n",
            " {'lead_time', 'days_in_waiting_list', 'booking_changes', 'previous_bookings_not_canceled', 'adults', 'arrival_date_week_number', 'adr', 'previous_cancellations', 'reservation_status_date', 'stays_in_week_nights', 'stays_in_weekend_nights', 'arrival_date_day_of_month'} \n",
            "\n",
            "Categorical Variables is ( 18 ):\n",
            " {'assigned_room_type', 'is_canceled', 'reserved_room_type', 'total_of_special_requests', 'deposit_type', 'arrival_date_year', 'hotel', 'children', 'required_car_parking_spaces', 'is_repeated_guest', 'arrival_date_month', 'market_segment', 'distribution_channel', 'meal', 'babies', 'reservation_status', 'customer_type', 'country'}\n"
          ]
        }
      ]
    },
    {
      "cell_type": "markdown",
      "metadata": {
        "id": "o3J1nyixGJ2Y"
      },
      "source": [
        "Here we have classified the continuous and categorical columns.\n",
        "So the question may pop in your mind what is continuous an catogrical,so\n",
        "***Categorical data***: Categorical data represent characteristics such as a person's gender, marital status, hometown, or the types of movies they like. Categorical data can take on numerical values (such as “1” indicating male and “2” indicating female), but those numbers don't have mathematical meaning.\n",
        "\n",
        "***continuous data***  :continuous is quantitative data that can be measured. • it has an infinite number of possible values within. a selected range e.g. temperature range. discrete data. • discrete data is quantitative data that can be counted."
      ]
    },
    {
      "cell_type": "markdown",
      "metadata": {
        "id": "jg5IuqjGaDAA"
      },
      "source": [
        "###Checking for the outliars###\n"
      ]
    },
    {
      "cell_type": "markdown",
      "metadata": {
        "id": "aeoGQlZgIUUj"
      },
      "source": [
        "An outlier is an observation that lies an abnormal distance from other values in a random sample from a population. In a sense, this definition leaves it up to the analyst (or a consensus process) to decide what will be considered abnormal. Before abnormal observations can be singled out, it is necessary to characterize normal observations."
      ]
    },
    {
      "cell_type": "code",
      "metadata": {
        "colab": {
          "base_uri": "https://localhost:8080/",
          "height": 442
        },
        "id": "OQiY_JgSaOP5",
        "outputId": "d213e88b-7298-47df-8720-c4427ef59b90"
      },
      "source": [
        "features = [\"lead_time\",\"stays_in_weekend_nights\" ,\"stays_in_week_nights\",\"adr\"]\n",
        "n = 1\n",
        "plt.figure(figsize=(18,16))\n",
        "for feature in features:\n",
        "    plt.subplot(4,4,n)\n",
        "    sns.boxplot(df[feature])\n",
        "    n+=1\n",
        "    plt.tight_layout()"
      ],
      "execution_count": null,
      "outputs": [
        {
          "output_type": "stream",
          "name": "stderr",
          "text": [
            "/usr/local/lib/python3.7/dist-packages/seaborn/_decorators.py:43: FutureWarning: Pass the following variable as a keyword arg: x. From version 0.12, the only valid positional argument will be `data`, and passing other arguments without an explicit keyword will result in an error or misinterpretation.\n",
            "  FutureWarning\n",
            "/usr/local/lib/python3.7/dist-packages/seaborn/_decorators.py:43: FutureWarning: Pass the following variable as a keyword arg: x. From version 0.12, the only valid positional argument will be `data`, and passing other arguments without an explicit keyword will result in an error or misinterpretation.\n",
            "  FutureWarning\n",
            "/usr/local/lib/python3.7/dist-packages/seaborn/_decorators.py:43: FutureWarning: Pass the following variable as a keyword arg: x. From version 0.12, the only valid positional argument will be `data`, and passing other arguments without an explicit keyword will result in an error or misinterpretation.\n",
            "  FutureWarning\n",
            "/usr/local/lib/python3.7/dist-packages/seaborn/_decorators.py:43: FutureWarning: Pass the following variable as a keyword arg: x. From version 0.12, the only valid positional argument will be `data`, and passing other arguments without an explicit keyword will result in an error or misinterpretation.\n",
            "  FutureWarning\n"
          ]
        },
        {
          "output_type": "display_data",
          "data": {
            "image/png": "[encoded data removed]",
            "text/plain": [
              "<Figure size 1296x1152 with 4 Axes>"
            ]
          },
          "metadata": {
            "needs_background": "light"
          }
        }
      ]
    },
    {
      "cell_type": "markdown",
      "metadata": {
        "id": "M2k-wHNEcvMC"
      },
      "source": [
        "There is outliars in the data"
      ]
    },
    {
      "cell_type": "markdown",
      "metadata": {
        "id": "9B5DE2Q6JDOe"
      },
      "source": [
        "The box plot is a useful graphical display for describing the behavior of the data in the middle as well as at the ends of the distributions. The box plot uses the median and the lower and upper quartiles (defined as the 25th and 75th percentiles). If the lower quartile is Q1 and the upper quartile is Q3, then the difference (Q3 - Q1) is called the interquartile range or IQR."
      ]
    },
    {
      "cell_type": "code",
      "metadata": {
        "id": "GlTLVbcEbFZD",
        "colab": {
          "base_uri": "https://localhost:8080/",
          "height": 319
        },
        "outputId": "680c8fb9-d901-42e8-93a8-f5df3e3d8b19"
      },
      "source": [
        "#Checking outliers in continuous variables\n",
        "df[con_var].describe()"
      ],
      "execution_count": null,
      "outputs": [
        {
          "output_type": "execute_result",
          "data": {
            "text/html": [
              "<div>\n",
              "<style scoped>\n",
              "    .dataframe tbody tr th:only-of-type {\n",
              "        vertical-align: middle;\n",
              "    }\n",
              "\n",
              "    .dataframe tbody tr th {\n",
              "        vertical-align: top;\n",
              "    }\n",
              "\n",
              "    .dataframe thead th {\n",
              "        text-align: right;\n",
              "    }\n",
              "</style>\n",
              "<table border=\"1\" class=\"dataframe\">\n",
              "  <thead>\n",
              "    <tr style=\"text-align: right;\">\n",
              "      <th></th>\n",
              "      <th>lead_time</th>\n",
              "      <th>days_in_waiting_list</th>\n",
              "      <th>booking_changes</th>\n",
              "      <th>previous_bookings_not_canceled</th>\n",
              "      <th>adults</th>\n",
              "      <th>arrival_date_week_number</th>\n",
              "      <th>adr</th>\n",
              "      <th>previous_cancellations</th>\n",
              "      <th>stays_in_week_nights</th>\n",
              "      <th>stays_in_weekend_nights</th>\n",
              "      <th>arrival_date_day_of_month</th>\n",
              "    </tr>\n",
              "  </thead>\n",
              "  <tbody>\n",
              "    <tr>\n",
              "      <th>count</th>\n",
              "      <td>87370.000000</td>\n",
              "      <td>87370.000000</td>\n",
              "      <td>87370.000000</td>\n",
              "      <td>87370.000000</td>\n",
              "      <td>87370.000000</td>\n",
              "      <td>87370.000000</td>\n",
              "      <td>87370.000000</td>\n",
              "      <td>87370.000000</td>\n",
              "      <td>87370.000000</td>\n",
              "      <td>87370.000000</td>\n",
              "      <td>87370.000000</td>\n",
              "    </tr>\n",
              "    <tr>\n",
              "      <th>mean</th>\n",
              "      <td>79.900595</td>\n",
              "      <td>0.749788</td>\n",
              "      <td>0.271661</td>\n",
              "      <td>0.184045</td>\n",
              "      <td>1.875873</td>\n",
              "      <td>26.838549</td>\n",
              "      <td>106.343157</td>\n",
              "      <td>0.030422</td>\n",
              "      <td>2.625604</td>\n",
              "      <td>1.005414</td>\n",
              "      <td>15.815967</td>\n",
              "    </tr>\n",
              "    <tr>\n",
              "      <th>std</th>\n",
              "      <td>86.055086</td>\n",
              "      <td>10.017213</td>\n",
              "      <td>0.727331</td>\n",
              "      <td>1.732148</td>\n",
              "      <td>0.626521</td>\n",
              "      <td>13.674188</td>\n",
              "      <td>55.016143</td>\n",
              "      <td>0.369200</td>\n",
              "      <td>2.053693</td>\n",
              "      <td>1.031980</td>\n",
              "      <td>8.835216</td>\n",
              "    </tr>\n",
              "    <tr>\n",
              "      <th>min</th>\n",
              "      <td>0.000000</td>\n",
              "      <td>0.000000</td>\n",
              "      <td>0.000000</td>\n",
              "      <td>0.000000</td>\n",
              "      <td>0.000000</td>\n",
              "      <td>1.000000</td>\n",
              "      <td>-6.380000</td>\n",
              "      <td>0.000000</td>\n",
              "      <td>0.000000</td>\n",
              "      <td>0.000000</td>\n",
              "      <td>1.000000</td>\n",
              "    </tr>\n",
              "    <tr>\n",
              "      <th>25%</th>\n",
              "      <td>11.000000</td>\n",
              "      <td>0.000000</td>\n",
              "      <td>0.000000</td>\n",
              "      <td>0.000000</td>\n",
              "      <td>2.000000</td>\n",
              "      <td>16.000000</td>\n",
              "      <td>72.000000</td>\n",
              "      <td>0.000000</td>\n",
              "      <td>1.000000</td>\n",
              "      <td>0.000000</td>\n",
              "      <td>8.000000</td>\n",
              "    </tr>\n",
              "    <tr>\n",
              "      <th>50%</th>\n",
              "      <td>49.000000</td>\n",
              "      <td>0.000000</td>\n",
              "      <td>0.000000</td>\n",
              "      <td>0.000000</td>\n",
              "      <td>2.000000</td>\n",
              "      <td>27.000000</td>\n",
              "      <td>98.100000</td>\n",
              "      <td>0.000000</td>\n",
              "      <td>2.000000</td>\n",
              "      <td>1.000000</td>\n",
              "      <td>16.000000</td>\n",
              "    </tr>\n",
              "    <tr>\n",
              "      <th>75%</th>\n",
              "      <td>125.000000</td>\n",
              "      <td>0.000000</td>\n",
              "      <td>0.000000</td>\n",
              "      <td>0.000000</td>\n",
              "      <td>2.000000</td>\n",
              "      <td>37.000000</td>\n",
              "      <td>134.000000</td>\n",
              "      <td>0.000000</td>\n",
              "      <td>4.000000</td>\n",
              "      <td>2.000000</td>\n",
              "      <td>23.000000</td>\n",
              "    </tr>\n",
              "    <tr>\n",
              "      <th>max</th>\n",
              "      <td>737.000000</td>\n",
              "      <td>391.000000</td>\n",
              "      <td>21.000000</td>\n",
              "      <td>72.000000</td>\n",
              "      <td>55.000000</td>\n",
              "      <td>53.000000</td>\n",
              "      <td>5400.000000</td>\n",
              "      <td>26.000000</td>\n",
              "      <td>50.000000</td>\n",
              "      <td>19.000000</td>\n",
              "      <td>31.000000</td>\n",
              "    </tr>\n",
              "  </tbody>\n",
              "</table>\n",
              "</div>"
            ],
            "text/plain": [
              "          lead_time  ...  arrival_date_day_of_month\n",
              "count  87370.000000  ...               87370.000000\n",
              "mean      79.900595  ...                  15.815967\n",
              "std       86.055086  ...                   8.835216\n",
              "min        0.000000  ...                   1.000000\n",
              "25%       11.000000  ...                   8.000000\n",
              "50%       49.000000  ...                  16.000000\n",
              "75%      125.000000  ...                  23.000000\n",
              "max      737.000000  ...                  31.000000\n",
              "\n",
              "[8 rows x 11 columns]"
            ]
          },
          "metadata": {},
          "execution_count": 16
        }
      ]
    },
    {
      "cell_type": "markdown",
      "metadata": {
        "id": "iyS4VQDVbJYS"
      },
      "source": [
        "###Imputing the outliars###"
      ]
    },
    {
      "cell_type": "markdown",
      "metadata": {
        "id": "G6b5qdaQIqb9"
      },
      "source": [
        "Here we are replacing the outliers with interquartile range(IQR)\n",
        "IQR = (Q1-Q3)\n",
        "where the Q1 is 25 percentiles and Q3 is 75 percentiles."
      ]
    },
    {
      "cell_type": "code",
      "metadata": {
        "id": "SmrUjYZobIg-"
      },
      "source": [
        "def remove_outlier_using_IQR(df):\n",
        "    Q1=df.quantile(0.25)\n",
        "    Q3=df.quantile(0.75)\n",
        "    IQR=Q3-Q1\n",
        "    df_final_output = df[~((df<(Q1-1.5*IQR)) | (df>(Q3+1.5*IQR)))]\n",
        "    return df_final_output"
      ],
      "execution_count": null,
      "outputs": []
    },
    {
      "cell_type": "code",
      "metadata": {
        "id": "rnpeZzb4blRM"
      },
      "source": [
        "df[\"lead_time\"] = remove_outlier_using_IQR(df[\"lead_time\"])\n",
        "df[\"stays_in_weekend_nights\"] = remove_outlier_using_IQR(df[\"stays_in_weekend_nights\"])\n",
        "df[\"stays_in_week_nights\"]= remove_outlier_using_IQR(df[\"stays_in_week_nights\"])\n",
        "df[\"adr\"] = remove_outlier_using_IQR(df[\"adr\"])"
      ],
      "execution_count": null,
      "outputs": []
    },
    {
      "cell_type": "code",
      "metadata": {
        "colab": {
          "base_uri": "https://localhost:8080/",
          "height": 442
        },
        "id": "B_V0-pgLbrw8",
        "outputId": "0a548e72-c028-436c-a7a2-e4c3d1dec7bf"
      },
      "source": [
        "features = [\"lead_time\",\"stays_in_week_nights\",\"stays_in_weekend_nights\",\"adr\"]\n",
        "n = 1\n",
        "plt.figure(figsize=(18,16))\n",
        "for feature in features:\n",
        "    plt.subplot(4,4,n)\n",
        "    sns.boxplot(df[feature])\n",
        "    n+=1\n",
        "    plt.tight_layout()"
      ],
      "execution_count": null,
      "outputs": [
        {
          "output_type": "stream",
          "name": "stderr",
          "text": [
            "/usr/local/lib/python3.7/dist-packages/seaborn/_decorators.py:43: FutureWarning: Pass the following variable as a keyword arg: x. From version 0.12, the only valid positional argument will be `data`, and passing other arguments without an explicit keyword will result in an error or misinterpretation.\n",
            "  FutureWarning\n",
            "/usr/local/lib/python3.7/dist-packages/seaborn/_decorators.py:43: FutureWarning: Pass the following variable as a keyword arg: x. From version 0.12, the only valid positional argument will be `data`, and passing other arguments without an explicit keyword will result in an error or misinterpretation.\n",
            "  FutureWarning\n",
            "/usr/local/lib/python3.7/dist-packages/seaborn/_decorators.py:43: FutureWarning: Pass the following variable as a keyword arg: x. From version 0.12, the only valid positional argument will be `data`, and passing other arguments without an explicit keyword will result in an error or misinterpretation.\n",
            "  FutureWarning\n",
            "/usr/local/lib/python3.7/dist-packages/seaborn/_decorators.py:43: FutureWarning: Pass the following variable as a keyword arg: x. From version 0.12, the only valid positional argument will be `data`, and passing other arguments without an explicit keyword will result in an error or misinterpretation.\n",
            "  FutureWarning\n"
          ]
        },
        {
          "output_type": "display_data",
          "data": {
            "image/png": "[encoded data removed]",
            "text/plain": [
              "<Figure size 1296x1152 with 4 Axes>"
            ]
          },
          "metadata": {
            "needs_background": "light"
          }
        }
      ]
    },
    {
      "cell_type": "code",
      "metadata": {
        "id": "oMsLghlCc37i"
      },
      "source": [
        "df.loc[df.days_in_waiting_list >  0,\"days_in_waiting_list\"]=  1\n",
        "df.loc[df. booking_changes > 5,\"booking_changes\"]=  5\n",
        "df.loc[df.previous_bookings_not_canceled >   0,\"previous_bookings_not_canceled\"]=  1\n",
        "df.loc[df.previous_cancellations >  0,\"previous_cancellations \"]=  1\n",
        "\n",
        "# List of Continuous Variables which should be Categorical- PrevBook,PrevCancel,days in waiting list\n",
        "\n",
        "cat_var = set(list(cat_var) + [\"previous_bookings_not_canceled\",\"previous_cancellations\",\"days_in_waiting_list\"])\n",
        "con_var = set(df.columns) - cat_var"
      ],
      "execution_count": null,
      "outputs": []
    },
    {
      "cell_type": "code",
      "metadata": {
        "id": "8PGlCGE2egR7",
        "colab": {
          "base_uri": "https://localhost:8080/",
          "height": 319
        },
        "outputId": "337bb106-035d-4f3a-9b5a-8df1d87f0243"
      },
      "source": [
        "df[con_var].describe()"
      ],
      "execution_count": null,
      "outputs": [
        {
          "output_type": "execute_result",
          "data": {
            "text/html": [
              "<div>\n",
              "<style scoped>\n",
              "    .dataframe tbody tr th:only-of-type {\n",
              "        vertical-align: middle;\n",
              "    }\n",
              "\n",
              "    .dataframe tbody tr th {\n",
              "        vertical-align: top;\n",
              "    }\n",
              "\n",
              "    .dataframe thead th {\n",
              "        text-align: right;\n",
              "    }\n",
              "</style>\n",
              "<table border=\"1\" class=\"dataframe\">\n",
              "  <thead>\n",
              "    <tr style=\"text-align: right;\">\n",
              "      <th></th>\n",
              "      <th>lead_time</th>\n",
              "      <th>booking_changes</th>\n",
              "      <th>adults</th>\n",
              "      <th>arrival_date_week_number</th>\n",
              "      <th>adr</th>\n",
              "      <th>stays_in_week_nights</th>\n",
              "      <th>stays_in_weekend_nights</th>\n",
              "      <th>arrival_date_day_of_month</th>\n",
              "      <th>previous_cancellations</th>\n",
              "    </tr>\n",
              "  </thead>\n",
              "  <tbody>\n",
              "    <tr>\n",
              "      <th>count</th>\n",
              "      <td>84098.000000</td>\n",
              "      <td>87370.000000</td>\n",
              "      <td>87370.000000</td>\n",
              "      <td>87370.000000</td>\n",
              "      <td>84253.000000</td>\n",
              "      <td>84259.000000</td>\n",
              "      <td>87150.000000</td>\n",
              "      <td>87370.000000</td>\n",
              "      <td>1685.0</td>\n",
              "    </tr>\n",
              "    <tr>\n",
              "      <th>mean</th>\n",
              "      <td>70.007313</td>\n",
              "      <td>0.266339</td>\n",
              "      <td>1.875873</td>\n",
              "      <td>26.838549</td>\n",
              "      <td>100.884531</td>\n",
              "      <td>2.379461</td>\n",
              "      <td>0.989191</td>\n",
              "      <td>15.815967</td>\n",
              "      <td>1.0</td>\n",
              "    </tr>\n",
              "    <tr>\n",
              "      <th>std</th>\n",
              "      <td>70.390158</td>\n",
              "      <td>0.666664</td>\n",
              "      <td>0.626521</td>\n",
              "      <td>13.674188</td>\n",
              "      <td>44.160362</td>\n",
              "      <td>1.507521</td>\n",
              "      <td>0.975105</td>\n",
              "      <td>8.835216</td>\n",
              "      <td>0.0</td>\n",
              "    </tr>\n",
              "    <tr>\n",
              "      <th>min</th>\n",
              "      <td>0.000000</td>\n",
              "      <td>0.000000</td>\n",
              "      <td>0.000000</td>\n",
              "      <td>1.000000</td>\n",
              "      <td>-6.380000</td>\n",
              "      <td>0.000000</td>\n",
              "      <td>0.000000</td>\n",
              "      <td>1.000000</td>\n",
              "      <td>1.0</td>\n",
              "    </tr>\n",
              "    <tr>\n",
              "      <th>25%</th>\n",
              "      <td>10.000000</td>\n",
              "      <td>0.000000</td>\n",
              "      <td>2.000000</td>\n",
              "      <td>16.000000</td>\n",
              "      <td>71.000000</td>\n",
              "      <td>1.000000</td>\n",
              "      <td>0.000000</td>\n",
              "      <td>8.000000</td>\n",
              "      <td>1.0</td>\n",
              "    </tr>\n",
              "    <tr>\n",
              "      <th>50%</th>\n",
              "      <td>45.000000</td>\n",
              "      <td>0.000000</td>\n",
              "      <td>2.000000</td>\n",
              "      <td>27.000000</td>\n",
              "      <td>96.300000</td>\n",
              "      <td>2.000000</td>\n",
              "      <td>1.000000</td>\n",
              "      <td>16.000000</td>\n",
              "      <td>1.0</td>\n",
              "    </tr>\n",
              "    <tr>\n",
              "      <th>75%</th>\n",
              "      <td>114.000000</td>\n",
              "      <td>0.000000</td>\n",
              "      <td>2.000000</td>\n",
              "      <td>37.000000</td>\n",
              "      <td>129.000000</td>\n",
              "      <td>3.000000</td>\n",
              "      <td>2.000000</td>\n",
              "      <td>23.000000</td>\n",
              "      <td>1.0</td>\n",
              "    </tr>\n",
              "    <tr>\n",
              "      <th>max</th>\n",
              "      <td>276.000000</td>\n",
              "      <td>5.000000</td>\n",
              "      <td>55.000000</td>\n",
              "      <td>53.000000</td>\n",
              "      <td>218.330000</td>\n",
              "      <td>6.000000</td>\n",
              "      <td>5.000000</td>\n",
              "      <td>31.000000</td>\n",
              "      <td>1.0</td>\n",
              "    </tr>\n",
              "  </tbody>\n",
              "</table>\n",
              "</div>"
            ],
            "text/plain": [
              "          lead_time  ...  previous_cancellations \n",
              "count  84098.000000  ...                   1685.0\n",
              "mean      70.007313  ...                      1.0\n",
              "std       70.390158  ...                      0.0\n",
              "min        0.000000  ...                      1.0\n",
              "25%       10.000000  ...                      1.0\n",
              "50%       45.000000  ...                      1.0\n",
              "75%      114.000000  ...                      1.0\n",
              "max      276.000000  ...                      1.0\n",
              "\n",
              "[8 rows x 9 columns]"
            ]
          },
          "metadata": {},
          "execution_count": 24
        }
      ]
    },
    {
      "cell_type": "markdown",
      "metadata": {
        "id": "HzrpUkc-er6M"
      },
      "source": [
        "Now we have imputed the outliers"
      ]
    },
    {
      "cell_type": "markdown",
      "metadata": {
        "id": "YJEUfN7he6zR"
      },
      "source": [
        "###Univariate variable analysis### "
      ]
    },
    {
      "cell_type": "markdown",
      "metadata": {
        "id": "kGbeUHwPKtb3"
      },
      "source": [
        "So what is univariate analysis? Univariate analysis is a basic kind of analysis technique for statistical data. Here the data contains just one variable and does not have to deal with the relationship of a cause and effect.\n",
        "The main objective of the univariate analysis is to describe the data in order to find out the patterns in the data. This is done by looking at the mean, mode, median, standard deviation, dispersion, etc."
      ]
    },
    {
      "cell_type": "code",
      "metadata": {
        "id": "l5jxR_kGDe3l",
        "colab": {
          "base_uri": "https://localhost:8080/",
          "height": 495
        },
        "outputId": "cde23f14-7c7b-4cbb-befd-a54bf1a4db66"
      },
      "source": [
        "#Checking which hotelhas more reservations\n",
        "plt.rcParams['figure.figsize'] = 8,8\n",
        "# Indexing labels. tolist() will convert the index to list for easy manipulation\n",
        "labels = df['hotel'].value_counts().index.tolist()\n",
        "\n",
        "# Convert value counts to list\n",
        "sizes = df['hotel'].value_counts().tolist()\n",
        "\n",
        "# As the name suggest, explode will determine how much each section is separated from each other \n",
        "explode = (0,0.1)\n",
        "\n",
        "# Determine colour of pie chart\n",
        "colors = ['lightblue','lightgreen']\n",
        "\n",
        "plt.pie(sizes, explode=explode, labels=labels, colors=colors, autopct='%1.2f%%', textprops={'fontsize': 14})\n",
        "plt.legend()"
      ],
      "execution_count": null,
      "outputs": [
        {
          "output_type": "execute_result",
          "data": {
            "text/plain": [
              "<matplotlib.legend.Legend at 0x7fdd521da290>"
            ]
          },
          "metadata": {},
          "execution_count": 25
        },
        {
          "output_type": "display_data",
          "data": {
            "image/png": "[encoded data removed]",
            "text/plain": [
              "<Figure size 576x576 with 1 Axes>"
            ]
          },
          "metadata": {}
        }
      ]
    },
    {
      "cell_type": "markdown",
      "metadata": {
        "id": "n-YA5idKPvj2"
      },
      "source": [
        "which guest canceled the hotel stay."
      ]
    },
    {
      "cell_type": "code",
      "metadata": {
        "id": "sAmsOkYD5VIg",
        "colab": {
          "base_uri": "https://localhost:8080/",
          "height": 549
        },
        "outputId": "8e374487-2511-4c4e-ca30-96ee21ef3bf4"
      },
      "source": [
        "df['is_canceled']= df.is_canceled.replace([1,0], ['canceled','not_canceled'])\n",
        "sns.countplot(x='is_canceled',hue='hotel',data=df)\n",
        "plt.title(\"Hotel Cancelations\")"
      ],
      "execution_count": null,
      "outputs": [
        {
          "output_type": "execute_result",
          "data": {
            "text/plain": [
              "Text(0.5, 1.0, 'Hotel Cancelations')"
            ]
          },
          "metadata": {},
          "execution_count": 26
        },
        {
          "output_type": "display_data",
          "data": {
            "image/png": "[encoded data removed]",
            "text/plain": [
              "<Figure size 576x576 with 1 Axes>"
            ]
          },
          "metadata": {
            "needs_background": "light"
          }
        }
      ]
    },
    {
      "cell_type": "markdown",
      "metadata": {
        "id": "LFbMJyF0PhV7"
      },
      "source": [
        "In which month the more guest arrived?"
      ]
    },
    {
      "cell_type": "code",
      "metadata": {
        "id": "Q-CHstUX5m0s",
        "colab": {
          "base_uri": "https://localhost:8080/",
          "height": 307
        },
        "outputId": "37382688-39de-4afe-a6a1-ded48a21185a"
      },
      "source": [
        "month = ['January', 'February', 'March', 'April', 'May', 'June', 'July', 'August', 'September', 'October', 'November', 'December']\n",
        "plt.figure(figsize=(12,4))\n",
        "sns.countplot(x='arrival_date_month',hue='hotel',order=month,data=df)\n",
        "plt.title('months of arrival')\n",
        "plt.show()"
      ],
      "execution_count": null,
      "outputs": [
        {
          "output_type": "display_data",
          "data": {
            "image/png": "[encoded data removed]",
            "text/plain": [
              "<Figure size 864x288 with 1 Axes>"
            ]
          },
          "metadata": {
            "needs_background": "light"
          }
        }
      ]
    },
    {
      "cell_type": "markdown",
      "metadata": {
        "id": "uNC4EgR3P-nQ"
      },
      "source": [
        "Here we can see the in august month has more guest arrived."
      ]
    },
    {
      "cell_type": "markdown",
      "metadata": {
        "id": "1Zrn0QtWQH1x"
      },
      "source": [
        "which  year has most guest ?"
      ]
    },
    {
      "cell_type": "code",
      "metadata": {
        "id": "7QdIxDEujtTT",
        "colab": {
          "base_uri": "https://localhost:8080/",
          "height": 828
        },
        "outputId": "36fc8a70-7cdd-456f-b118-3ec7d7488f85"
      },
      "source": [
        "df[\"arrival_date_year\"].value_counts\n",
        "plt.figure(figsize=(12,12))\n",
        "sns.countplot(df[\"arrival_date_year\"], palette=\"gnuplot2\")\n",
        "plt.title(\"Arrival years\")"
      ],
      "execution_count": null,
      "outputs": [
        {
          "output_type": "stream",
          "name": "stderr",
          "text": [
            "/usr/local/lib/python3.7/dist-packages/seaborn/_decorators.py:43: FutureWarning: Pass the following variable as a keyword arg: x. From version 0.12, the only valid positional argument will be `data`, and passing other arguments without an explicit keyword will result in an error or misinterpretation.\n",
            "  FutureWarning\n"
          ]
        },
        {
          "output_type": "execute_result",
          "data": {
            "text/plain": [
              "Text(0.5, 1.0, 'Arrival years')"
            ]
          },
          "metadata": {},
          "execution_count": 28
        },
        {
          "output_type": "display_data",
          "data": {
            "image/png": "[encoded data removed]",
            "text/plain": [
              "<Figure size 864x864 with 1 Axes>"
            ]
          },
          "metadata": {
            "needs_background": "light"
          }
        }
      ]
    },
    {
      "cell_type": "markdown",
      "metadata": {
        "id": "MAfRcHHoQOgL"
      },
      "source": [
        "Here we can see the 2016 has more most then 2015 and 2017."
      ]
    },
    {
      "cell_type": "markdown",
      "metadata": {
        "id": "sTYt5jfQQiPc"
      },
      "source": [
        "How the most of guest made booking? "
      ]
    },
    {
      "cell_type": "code",
      "metadata": {
        "id": "9sqSgrZzjbxf",
        "colab": {
          "base_uri": "https://localhost:8080/",
          "height": 698
        },
        "outputId": "43188dfa-17b2-40dd-9964-f85c2de310a7"
      },
      "source": [
        "df[\"market_segment\"].value_counts \n",
        "plt.figure(figsize=(10,10))\n",
        "sns.countplot(df[\"market_segment\"], palette='magma')\n",
        "plt.title(\"Market Segments\")\n",
        "plt.show()"
      ],
      "execution_count": null,
      "outputs": [
        {
          "output_type": "stream",
          "name": "stderr",
          "text": [
            "/usr/local/lib/python3.7/dist-packages/seaborn/_decorators.py:43: FutureWarning: Pass the following variable as a keyword arg: x. From version 0.12, the only valid positional argument will be `data`, and passing other arguments without an explicit keyword will result in an error or misinterpretation.\n",
            "  FutureWarning\n"
          ]
        },
        {
          "output_type": "display_data",
          "data": {
            "image/png": "[encoded data removed]",
            "text/plain": [
              "<Figure size 720x720 with 1 Axes>"
            ]
          },
          "metadata": {
            "needs_background": "light"
          }
        }
      ]
    },
    {
      "cell_type": "markdown",
      "metadata": {
        "id": "5jzHgdA-Qplb"
      },
      "source": [
        "Here most of the guest made booking through omnline travel agent."
      ]
    },
    {
      "cell_type": "code",
      "metadata": {
        "id": "uIkyXRCpkHy8",
        "colab": {
          "base_uri": "https://localhost:8080/",
          "height": 810
        },
        "outputId": "1e2f3e1a-1ae6-40c1-8f3c-57f2fa127672"
      },
      "source": [
        "df[\"customer_type\"].value_counts\n",
        "plt.figure(figsize=(12,12))\n",
        "sns.countplot(df[\"customer_type\"], palette=\"gnuplot2\")\n",
        "plt.title(\"Customer Types\")\n",
        "plt.show()"
      ],
      "execution_count": null,
      "outputs": [
        {
          "output_type": "stream",
          "name": "stderr",
          "text": [
            "/usr/local/lib/python3.7/dist-packages/seaborn/_decorators.py:43: FutureWarning: Pass the following variable as a keyword arg: x. From version 0.12, the only valid positional argument will be `data`, and passing other arguments without an explicit keyword will result in an error or misinterpretation.\n",
            "  FutureWarning\n"
          ]
        },
        {
          "output_type": "display_data",
          "data": {
            "image/png": "[encoded data removed]",
            "text/plain": [
              "<Figure size 864x864 with 1 Axes>"
            ]
          },
          "metadata": {
            "needs_background": "light"
          }
        }
      ]
    },
    {
      "cell_type": "code",
      "metadata": {
        "colab": {
          "base_uri": "https://localhost:8080/"
        },
        "id": "Wq6tsTrROXcy",
        "outputId": "ac663db7-db40-4d4a-d2d9-c2ec0a860f63"
      },
      "source": [
        "df[\"distribution_channel\"].value_counts()"
      ],
      "execution_count": null,
      "outputs": [
        {
          "output_type": "execute_result",
          "data": {
            "text/plain": [
              "TA/TO        69123\n",
              "Direct       12986\n",
              "Corporate     5075\n",
              "GDS            181\n",
              "Undefined        5\n",
              "Name: distribution_channel, dtype: int64"
            ]
          },
          "metadata": {},
          "execution_count": 32
        }
      ]
    },
    {
      "cell_type": "markdown",
      "metadata": {
        "id": "7eNaEfHjOY9H"
      },
      "source": [
        "###Price analysis###"
      ]
    },
    {
      "cell_type": "markdown",
      "metadata": {
        "id": "aRf5b-2DSjH1"
      },
      "source": [
        "Price is the one of the main factor for hotel booking.\n",
        "So in this part we try to look into price part and check how the price changes year by year. And  how it affect our guest. "
      ]
    },
    {
      "cell_type": "code",
      "metadata": {
        "id": "Te-WUQLplEZB"
      },
      "source": [
        "df1= df.groupby(\"hotel\").adr.agg(np.average)\n",
        "df1"
      ],
      "execution_count": null,
      "outputs": []
    },
    {
      "cell_type": "markdown",
      "metadata": {
        "id": "vqXMReR2RAHZ"
      },
      "source": [
        "The average adr for sity hotel is 110.99 and of resort hotel is 99.10"
      ]
    },
    {
      "cell_type": "code",
      "metadata": {
        "id": "XypxX5j1lWAt"
      },
      "source": [
        "df['adr_pp'] = df['adr'] / (df['adults'] + df['children']) \n",
        "# here we are not including because there age is less than 3 and so there stay is free \n",
        "actual_guests = df.loc[df[\"is_canceled\"] == '0']\n",
        "Total_Stay = actual_guests['stays_in_weekend_nights'] + actual_guests['stays_in_week_nights']\n",
        "actual_guests['price'] = actual_guests['adr'] * (Total_Stay)"
      ],
      "execution_count": null,
      "outputs": []
    },
    {
      "cell_type": "code",
      "metadata": {
        "id": "-5ID5I-Blj4j"
      },
      "source": [
        "df2 = df.groupby(\"assigned_room_type\") .adr.agg(np.average) \n",
        "df2"
      ],
      "execution_count": null,
      "outputs": []
    },
    {
      "cell_type": "markdown",
      "metadata": {
        "id": "nXyST3v5Rmb3"
      },
      "source": [
        "Here we are trying to find the average adr for each type of room. "
      ]
    },
    {
      "cell_type": "code",
      "metadata": {
        "id": "1f3XLGQolwk8",
        "colab": {
          "base_uri": "https://localhost:8080/",
          "height": 852
        },
        "outputId": "6c3dc26c-c0f8-480d-d77f-4a51834421a8"
      },
      "source": [
        "df[\"arrival_date_month_year\"]=df[\"arrival_date_month\"].astype(\"str\")+\" \"+df[\"arrival_date_year\"].astype(\"str\")\n",
        "df.groupby(\"arrival_date_month_year\").agg(np.average)[\"adr\"].reset_index()\n"
      ],
      "execution_count": null,
      "outputs": [
        {
          "output_type": "execute_result",
          "data": {
            "text/html": [
              "<div>\n",
              "<style scoped>\n",
              "    .dataframe tbody tr th:only-of-type {\n",
              "        vertical-align: middle;\n",
              "    }\n",
              "\n",
              "    .dataframe tbody tr th {\n",
              "        vertical-align: top;\n",
              "    }\n",
              "\n",
              "    .dataframe thead th {\n",
              "        text-align: right;\n",
              "    }\n",
              "</style>\n",
              "<table border=\"1\" class=\"dataframe\">\n",
              "  <thead>\n",
              "    <tr style=\"text-align: right;\">\n",
              "      <th></th>\n",
              "      <th>arrival_date_month_year</th>\n",
              "      <th>adr</th>\n",
              "    </tr>\n",
              "  </thead>\n",
              "  <tbody>\n",
              "    <tr>\n",
              "      <th>0</th>\n",
              "      <td>April 2016</td>\n",
              "      <td>90.972653</td>\n",
              "    </tr>\n",
              "    <tr>\n",
              "      <th>1</th>\n",
              "      <td>April 2017</td>\n",
              "      <td>115.128432</td>\n",
              "    </tr>\n",
              "    <tr>\n",
              "      <th>2</th>\n",
              "      <td>August 2015</td>\n",
              "      <td>122.994391</td>\n",
              "    </tr>\n",
              "    <tr>\n",
              "      <th>3</th>\n",
              "      <td>August 2016</td>\n",
              "      <td>148.833968</td>\n",
              "    </tr>\n",
              "    <tr>\n",
              "      <th>4</th>\n",
              "      <td>August 2017</td>\n",
              "      <td>168.549327</td>\n",
              "    </tr>\n",
              "    <tr>\n",
              "      <th>5</th>\n",
              "      <td>December 2015</td>\n",
              "      <td>71.540293</td>\n",
              "    </tr>\n",
              "    <tr>\n",
              "      <th>6</th>\n",
              "      <td>December 2016</td>\n",
              "      <td>87.687599</td>\n",
              "    </tr>\n",
              "    <tr>\n",
              "      <th>7</th>\n",
              "      <td>February 2016</td>\n",
              "      <td>69.931764</td>\n",
              "    </tr>\n",
              "    <tr>\n",
              "      <th>8</th>\n",
              "      <td>February 2017</td>\n",
              "      <td>78.749541</td>\n",
              "    </tr>\n",
              "    <tr>\n",
              "      <th>9</th>\n",
              "      <td>January 2016</td>\n",
              "      <td>62.698459</td>\n",
              "    </tr>\n",
              "    <tr>\n",
              "      <th>10</th>\n",
              "      <td>January 2017</td>\n",
              "      <td>74.830759</td>\n",
              "    </tr>\n",
              "    <tr>\n",
              "      <th>11</th>\n",
              "      <td>July 2015</td>\n",
              "      <td>112.399379</td>\n",
              "    </tr>\n",
              "    <tr>\n",
              "      <th>12</th>\n",
              "      <td>July 2016</td>\n",
              "      <td>131.396209</td>\n",
              "    </tr>\n",
              "    <tr>\n",
              "      <th>13</th>\n",
              "      <td>July 2017</td>\n",
              "      <td>147.613122</td>\n",
              "    </tr>\n",
              "    <tr>\n",
              "      <th>14</th>\n",
              "      <td>June 2016</td>\n",
              "      <td>108.865351</td>\n",
              "    </tr>\n",
              "    <tr>\n",
              "      <th>15</th>\n",
              "      <td>June 2017</td>\n",
              "      <td>128.761827</td>\n",
              "    </tr>\n",
              "    <tr>\n",
              "      <th>16</th>\n",
              "      <td>March 2016</td>\n",
              "      <td>79.483631</td>\n",
              "    </tr>\n",
              "    <tr>\n",
              "      <th>17</th>\n",
              "      <td>March 2017</td>\n",
              "      <td>83.821445</td>\n",
              "    </tr>\n",
              "    <tr>\n",
              "      <th>18</th>\n",
              "      <td>May 2016</td>\n",
              "      <td>100.088238</td>\n",
              "    </tr>\n",
              "    <tr>\n",
              "      <th>19</th>\n",
              "      <td>May 2017</td>\n",
              "      <td>120.373019</td>\n",
              "    </tr>\n",
              "    <tr>\n",
              "      <th>20</th>\n",
              "      <td>November 2015</td>\n",
              "      <td>59.236336</td>\n",
              "    </tr>\n",
              "    <tr>\n",
              "      <th>21</th>\n",
              "      <td>November 2016</td>\n",
              "      <td>79.513523</td>\n",
              "    </tr>\n",
              "    <tr>\n",
              "      <th>22</th>\n",
              "      <td>October 2015</td>\n",
              "      <td>78.925463</td>\n",
              "    </tr>\n",
              "    <tr>\n",
              "      <th>23</th>\n",
              "      <td>October 2016</td>\n",
              "      <td>97.311953</td>\n",
              "    </tr>\n",
              "    <tr>\n",
              "      <th>24</th>\n",
              "      <td>September 2015</td>\n",
              "      <td>99.878190</td>\n",
              "    </tr>\n",
              "    <tr>\n",
              "      <th>25</th>\n",
              "      <td>September 2016</td>\n",
              "      <td>121.077505</td>\n",
              "    </tr>\n",
              "  </tbody>\n",
              "</table>\n",
              "</div>"
            ],
            "text/plain": [
              "   arrival_date_month_year         adr\n",
              "0               April 2016   90.972653\n",
              "1               April 2017  115.128432\n",
              "2              August 2015  122.994391\n",
              "3              August 2016  148.833968\n",
              "4              August 2017  168.549327\n",
              "5            December 2015   71.540293\n",
              "6            December 2016   87.687599\n",
              "7            February 2016   69.931764\n",
              "8            February 2017   78.749541\n",
              "9             January 2016   62.698459\n",
              "10            January 2017   74.830759\n",
              "11               July 2015  112.399379\n",
              "12               July 2016  131.396209\n",
              "13               July 2017  147.613122\n",
              "14               June 2016  108.865351\n",
              "15               June 2017  128.761827\n",
              "16              March 2016   79.483631\n",
              "17              March 2017   83.821445\n",
              "18                May 2016  100.088238\n",
              "19                May 2017  120.373019\n",
              "20           November 2015   59.236336\n",
              "21           November 2016   79.513523\n",
              "22            October 2015   78.925463\n",
              "23            October 2016   97.311953\n",
              "24          September 2015   99.878190\n",
              "25          September 2016  121.077505"
            ]
          },
          "metadata": {
            "tags": []
          },
          "execution_count": 18
        }
      ]
    },
    {
      "cell_type": "markdown",
      "metadata": {
        "id": "JkiBx47BR6jj"
      },
      "source": [
        "Here  we trying to find the average adr of each month for each year."
      ]
    },
    {
      "cell_type": "code",
      "metadata": {
        "id": "cNJNmTlXl7yO",
        "colab": {
          "base_uri": "https://localhost:8080/"
        },
        "outputId": "ba0eae15-a434-4c91-9134-8d024e09076c"
      },
      "source": [
        "df[\"Total_guest\"] = df[\"babies\"] +df['adults'] + df['children']\n",
        "df.groupby(\"arrival_date_month_year\").sum()[\"Total_guest\"]\n"
      ],
      "execution_count": null,
      "outputs": [
        {
          "output_type": "execute_result",
          "data": {
            "text/plain": [
              "arrival_date_month_year\n",
              "April 2016        10471.0\n",
              "April 2017        11529.0\n",
              "August 2015        8040.0\n",
              "August 2016       11600.0\n",
              "August 2017       11131.0\n",
              "December 2015      5470.0\n",
              "December 2016      7726.0\n",
              "February 2016      7215.0\n",
              "February 2017      8084.0\n",
              "January 2016       3835.0\n",
              "January 2017       6689.0\n",
              "July 2015          5715.0\n",
              "July 2016         10101.0\n",
              "July 2017         11791.0\n",
              "June 2016         10101.0\n",
              "June 2017         11380.0\n",
              "March 2016         9261.0\n",
              "March 2017         9171.0\n",
              "May 2016          10420.0\n",
              "May 2017          12036.0\n",
              "November 2015      3807.0\n",
              "November 2016      8005.0\n",
              "October 2015       9084.0\n",
              "October 2016      11960.0\n",
              "September 2015     9726.0\n",
              "September 2016    10640.0\n",
              "Name: Total_guest, dtype: float64"
            ]
          },
          "metadata": {
            "tags": []
          },
          "execution_count": 28
        }
      ]
    },
    {
      "cell_type": "markdown",
      "metadata": {
        "id": "NowKkTz5SL0g"
      },
      "source": [
        "This code display the total number of guest arrived each month in each year. "
      ]
    },
    {
      "cell_type": "markdown",
      "metadata": {
        "id": "uhcQ2XT1DKdi"
      },
      "source": [
        "###Bivariate Analysis###"
      ]
    },
    {
      "cell_type": "markdown",
      "metadata": {
        "id": "zA7W-KA_T2nn"
      },
      "source": [
        "When we talk about bivariate analysis, it means analyzing 2 variables. Since we know there are numerical and categorical variables we try to check the relation between them."
      ]
    },
    {
      "cell_type": "markdown",
      "metadata": {
        "id": "dJ9KpB8WuS5V"
      },
      "source": [
        "Here trying to find the relation between lead time and booking changes."
      ]
    },
    {
      "cell_type": "code",
      "metadata": {
        "id": "Cz2i9AO9UEGN",
        "colab": {
          "base_uri": "https://localhost:8080/",
          "height": 459
        },
        "outputId": "d0d918d9-05fd-4e3f-e0d3-a78a24556114"
      },
      "source": [
        "sns.jointplot(data = df,x= \"booking_changes\",y=\"lead_time\" ,hue =\"customer_type\" )\n"
      ],
      "execution_count": null,
      "outputs": [
        {
          "output_type": "execute_result",
          "data": {
            "text/plain": [
              "<seaborn.axisgrid.JointGrid at 0x7f83aec19f50>"
            ]
          },
          "metadata": {
            "tags": []
          },
          "execution_count": 4
        },
        {
          "output_type": "display_data",
          "data": {
            "image/png": "[encoded data removed]",
            "text/plain": [
              "<Figure size 432x432 with 3 Axes>"
            ]
          },
          "metadata": {
            "tags": [],
            "needs_background": "light"
          }
        }
      ]
    },
    {
      "cell_type": "markdown",
      "metadata": {
        "id": "wT7ihKsxuFph"
      },
      "source": [
        "From graph maximum number of booking not change by Transient customer and most of ChangeBooking done by Transient-party.\n",
        "\n"
      ]
    },
    {
      "cell_type": "markdown",
      "metadata": {
        "id": "dI7cDw-fuccB"
      },
      "source": [
        "Here we are analyzing the relation between Hotels and previous booking not canceled"
      ]
    },
    {
      "cell_type": "code",
      "metadata": {
        "colab": {
          "base_uri": "https://localhost:8080/",
          "height": 315
        },
        "id": "mQkuDOTHuIBG",
        "outputId": "064bd828-0050-4c65-8466-7b5d64aa1bda"
      },
      "source": [
        "sns.barplot(data  = df, x=\"hotel\", y=\"previous_bookings_not_canceled\",hue =\"customer_type\")"
      ],
      "execution_count": null,
      "outputs": [
        {
          "output_type": "execute_result",
          "data": {
            "text/plain": [
              "<matplotlib.axes._subplots.AxesSubplot at 0x7f83a5307d50>"
            ]
          },
          "metadata": {
            "tags": []
          },
          "execution_count": 5
        },
        {
          "output_type": "display_data",
          "data": {
            "image/png": "[encoded data removed]",
            "text/plain": [
              "<Figure size 432x288 with 1 Axes>"
            ]
          },
          "metadata": {
            "tags": [],
            "needs_background": "light"
          }
        }
      ]
    },
    {
      "cell_type": "markdown",
      "metadata": {
        "id": "pdp6oAqBuvaK"
      },
      "source": [
        "Both hotel have maximum Previous Booking done by group,followed by transient and transient-party and very less previous booking done by contract"
      ]
    },
    {
      "cell_type": "markdown",
      "metadata": {
        "id": "muJZ3xiH7715"
      },
      "source": [
        "#Hypothesis Questions"
      ]
    },
    {
      "cell_type": "markdown",
      "metadata": {
        "id": "uqqzvYO277yo"
      },
      "source": [
        "**Does market segment have any impact on repeated guest?**"
      ]
    },
    {
      "cell_type": "code",
      "metadata": {
        "id": "2wAN-sS5cgdX"
      },
      "source": [
        "df=  pd.read_csv('Hotel Bookings.csv')"
      ],
      "execution_count": null,
      "outputs": []
    },
    {
      "cell_type": "code",
      "metadata": {
        "id": "mUku1puk75Ds",
        "colab": {
          "base_uri": "https://localhost:8080/",
          "height": 508
        },
        "outputId": "149378f3-636d-4785-81f7-016423de0ce8"
      },
      "source": [
        "# Does market segment have any impact on repeated guest\n",
        "new_data=df.groupby(['market_segment','is_repeated_guest']).size().reset_index(name='count')\n",
        "new_data"
      ],
      "execution_count": null,
      "outputs": [
        {
          "output_type": "execute_result",
          "data": {
            "text/html": [
              "<div>\n",
              "<style scoped>\n",
              "    .dataframe tbody tr th:only-of-type {\n",
              "        vertical-align: middle;\n",
              "    }\n",
              "\n",
              "    .dataframe tbody tr th {\n",
              "        vertical-align: top;\n",
              "    }\n",
              "\n",
              "    .dataframe thead th {\n",
              "        text-align: right;\n",
              "    }\n",
              "</style>\n",
              "<table border=\"1\" class=\"dataframe\">\n",
              "  <thead>\n",
              "    <tr style=\"text-align: right;\">\n",
              "      <th></th>\n",
              "      <th>market_segment</th>\n",
              "      <th>is_repeated_guest</th>\n",
              "      <th>count</th>\n",
              "    </tr>\n",
              "  </thead>\n",
              "  <tbody>\n",
              "    <tr>\n",
              "      <th>0</th>\n",
              "      <td>Aviation</td>\n",
              "      <td>0</td>\n",
              "      <td>173</td>\n",
              "    </tr>\n",
              "    <tr>\n",
              "      <th>1</th>\n",
              "      <td>Aviation</td>\n",
              "      <td>1</td>\n",
              "      <td>64</td>\n",
              "    </tr>\n",
              "    <tr>\n",
              "      <th>2</th>\n",
              "      <td>Complementary</td>\n",
              "      <td>0</td>\n",
              "      <td>513</td>\n",
              "    </tr>\n",
              "    <tr>\n",
              "      <th>3</th>\n",
              "      <td>Complementary</td>\n",
              "      <td>1</td>\n",
              "      <td>230</td>\n",
              "    </tr>\n",
              "    <tr>\n",
              "      <th>4</th>\n",
              "      <td>Corporate</td>\n",
              "      <td>0</td>\n",
              "      <td>3821</td>\n",
              "    </tr>\n",
              "    <tr>\n",
              "      <th>5</th>\n",
              "      <td>Corporate</td>\n",
              "      <td>1</td>\n",
              "      <td>1474</td>\n",
              "    </tr>\n",
              "    <tr>\n",
              "      <th>6</th>\n",
              "      <td>Direct</td>\n",
              "      <td>0</td>\n",
              "      <td>11810</td>\n",
              "    </tr>\n",
              "    <tr>\n",
              "      <th>7</th>\n",
              "      <td>Direct</td>\n",
              "      <td>1</td>\n",
              "      <td>796</td>\n",
              "    </tr>\n",
              "    <tr>\n",
              "      <th>8</th>\n",
              "      <td>Groups</td>\n",
              "      <td>0</td>\n",
              "      <td>19541</td>\n",
              "    </tr>\n",
              "    <tr>\n",
              "      <th>9</th>\n",
              "      <td>Groups</td>\n",
              "      <td>1</td>\n",
              "      <td>270</td>\n",
              "    </tr>\n",
              "    <tr>\n",
              "      <th>10</th>\n",
              "      <td>Offline TA/TO</td>\n",
              "      <td>0</td>\n",
              "      <td>23840</td>\n",
              "    </tr>\n",
              "    <tr>\n",
              "      <th>11</th>\n",
              "      <td>Offline TA/TO</td>\n",
              "      <td>1</td>\n",
              "      <td>379</td>\n",
              "    </tr>\n",
              "    <tr>\n",
              "      <th>12</th>\n",
              "      <td>Online TA</td>\n",
              "      <td>0</td>\n",
              "      <td>55880</td>\n",
              "    </tr>\n",
              "    <tr>\n",
              "      <th>13</th>\n",
              "      <td>Online TA</td>\n",
              "      <td>1</td>\n",
              "      <td>597</td>\n",
              "    </tr>\n",
              "    <tr>\n",
              "      <th>14</th>\n",
              "      <td>Undefined</td>\n",
              "      <td>0</td>\n",
              "      <td>2</td>\n",
              "    </tr>\n",
              "  </tbody>\n",
              "</table>\n",
              "</div>"
            ],
            "text/plain": [
              "   market_segment  is_repeated_guest  count\n",
              "0        Aviation                  0    173\n",
              "1        Aviation                  1     64\n",
              "2   Complementary                  0    513\n",
              "3   Complementary                  1    230\n",
              "4       Corporate                  0   3821\n",
              "5       Corporate                  1   1474\n",
              "6          Direct                  0  11810\n",
              "7          Direct                  1    796\n",
              "8          Groups                  0  19541\n",
              "9          Groups                  1    270\n",
              "10  Offline TA/TO                  0  23840\n",
              "11  Offline TA/TO                  1    379\n",
              "12      Online TA                  0  55880\n",
              "13      Online TA                  1    597\n",
              "14      Undefined                  0      2"
            ]
          },
          "metadata": {
            "tags": []
          },
          "execution_count": 30
        }
      ]
    },
    {
      "cell_type": "code",
      "metadata": {
        "id": "DbPCWXVz8c-n",
        "colab": {
          "base_uri": "https://localhost:8080/",
          "height": 294
        },
        "outputId": "d40335b2-2400-4b05-91b5-52b81b284f21"
      },
      "source": [
        "new_data_1=pd.DataFrame(df.market_segment.value_counts())\n",
        "new_data_1.reset_index(level=0, inplace=True)\n",
        "new_data_1.rename(columns = {'index':'market_segment', 'market_segment':'total'}, inplace = True) \n",
        "new_data_1"
      ],
      "execution_count": null,
      "outputs": [
        {
          "output_type": "execute_result",
          "data": {
            "text/html": [
              "<div>\n",
              "<style scoped>\n",
              "    .dataframe tbody tr th:only-of-type {\n",
              "        vertical-align: middle;\n",
              "    }\n",
              "\n",
              "    .dataframe tbody tr th {\n",
              "        vertical-align: top;\n",
              "    }\n",
              "\n",
              "    .dataframe thead th {\n",
              "        text-align: right;\n",
              "    }\n",
              "</style>\n",
              "<table border=\"1\" class=\"dataframe\">\n",
              "  <thead>\n",
              "    <tr style=\"text-align: right;\">\n",
              "      <th></th>\n",
              "      <th>market_segment</th>\n",
              "      <th>total</th>\n",
              "    </tr>\n",
              "  </thead>\n",
              "  <tbody>\n",
              "    <tr>\n",
              "      <th>0</th>\n",
              "      <td>Online TA</td>\n",
              "      <td>56477</td>\n",
              "    </tr>\n",
              "    <tr>\n",
              "      <th>1</th>\n",
              "      <td>Offline TA/TO</td>\n",
              "      <td>24219</td>\n",
              "    </tr>\n",
              "    <tr>\n",
              "      <th>2</th>\n",
              "      <td>Groups</td>\n",
              "      <td>19811</td>\n",
              "    </tr>\n",
              "    <tr>\n",
              "      <th>3</th>\n",
              "      <td>Direct</td>\n",
              "      <td>12606</td>\n",
              "    </tr>\n",
              "    <tr>\n",
              "      <th>4</th>\n",
              "      <td>Corporate</td>\n",
              "      <td>5295</td>\n",
              "    </tr>\n",
              "    <tr>\n",
              "      <th>5</th>\n",
              "      <td>Complementary</td>\n",
              "      <td>743</td>\n",
              "    </tr>\n",
              "    <tr>\n",
              "      <th>6</th>\n",
              "      <td>Aviation</td>\n",
              "      <td>237</td>\n",
              "    </tr>\n",
              "    <tr>\n",
              "      <th>7</th>\n",
              "      <td>Undefined</td>\n",
              "      <td>2</td>\n",
              "    </tr>\n",
              "  </tbody>\n",
              "</table>\n",
              "</div>"
            ],
            "text/plain": [
              "  market_segment  total\n",
              "0      Online TA  56477\n",
              "1  Offline TA/TO  24219\n",
              "2         Groups  19811\n",
              "3         Direct  12606\n",
              "4      Corporate   5295\n",
              "5  Complementary    743\n",
              "6       Aviation    237\n",
              "7      Undefined      2"
            ]
          },
          "metadata": {
            "tags": []
          },
          "execution_count": 31
        }
      ]
    },
    {
      "cell_type": "code",
      "metadata": {
        "id": "u8LuFryo-Xnc",
        "colab": {
          "base_uri": "https://localhost:8080/",
          "height": 508
        },
        "outputId": "5ef6e609-6df7-4cbf-e6c7-fe7fcbf9f0dd"
      },
      "source": [
        "# merging 2 table \n",
        "market_impact=new_data.merge(new_data_1, on='market_segment', how='left')\n",
        "market_impact"
      ],
      "execution_count": null,
      "outputs": [
        {
          "output_type": "execute_result",
          "data": {
            "text/html": [
              "<div>\n",
              "<style scoped>\n",
              "    .dataframe tbody tr th:only-of-type {\n",
              "        vertical-align: middle;\n",
              "    }\n",
              "\n",
              "    .dataframe tbody tr th {\n",
              "        vertical-align: top;\n",
              "    }\n",
              "\n",
              "    .dataframe thead th {\n",
              "        text-align: right;\n",
              "    }\n",
              "</style>\n",
              "<table border=\"1\" class=\"dataframe\">\n",
              "  <thead>\n",
              "    <tr style=\"text-align: right;\">\n",
              "      <th></th>\n",
              "      <th>market_segment</th>\n",
              "      <th>is_repeated_guest</th>\n",
              "      <th>count</th>\n",
              "      <th>total</th>\n",
              "    </tr>\n",
              "  </thead>\n",
              "  <tbody>\n",
              "    <tr>\n",
              "      <th>0</th>\n",
              "      <td>Aviation</td>\n",
              "      <td>0</td>\n",
              "      <td>173</td>\n",
              "      <td>237</td>\n",
              "    </tr>\n",
              "    <tr>\n",
              "      <th>1</th>\n",
              "      <td>Aviation</td>\n",
              "      <td>1</td>\n",
              "      <td>64</td>\n",
              "      <td>237</td>\n",
              "    </tr>\n",
              "    <tr>\n",
              "      <th>2</th>\n",
              "      <td>Complementary</td>\n",
              "      <td>0</td>\n",
              "      <td>513</td>\n",
              "      <td>743</td>\n",
              "    </tr>\n",
              "    <tr>\n",
              "      <th>3</th>\n",
              "      <td>Complementary</td>\n",
              "      <td>1</td>\n",
              "      <td>230</td>\n",
              "      <td>743</td>\n",
              "    </tr>\n",
              "    <tr>\n",
              "      <th>4</th>\n",
              "      <td>Corporate</td>\n",
              "      <td>0</td>\n",
              "      <td>3821</td>\n",
              "      <td>5295</td>\n",
              "    </tr>\n",
              "    <tr>\n",
              "      <th>5</th>\n",
              "      <td>Corporate</td>\n",
              "      <td>1</td>\n",
              "      <td>1474</td>\n",
              "      <td>5295</td>\n",
              "    </tr>\n",
              "    <tr>\n",
              "      <th>6</th>\n",
              "      <td>Direct</td>\n",
              "      <td>0</td>\n",
              "      <td>11810</td>\n",
              "      <td>12606</td>\n",
              "    </tr>\n",
              "    <tr>\n",
              "      <th>7</th>\n",
              "      <td>Direct</td>\n",
              "      <td>1</td>\n",
              "      <td>796</td>\n",
              "      <td>12606</td>\n",
              "    </tr>\n",
              "    <tr>\n",
              "      <th>8</th>\n",
              "      <td>Groups</td>\n",
              "      <td>0</td>\n",
              "      <td>19541</td>\n",
              "      <td>19811</td>\n",
              "    </tr>\n",
              "    <tr>\n",
              "      <th>9</th>\n",
              "      <td>Groups</td>\n",
              "      <td>1</td>\n",
              "      <td>270</td>\n",
              "      <td>19811</td>\n",
              "    </tr>\n",
              "    <tr>\n",
              "      <th>10</th>\n",
              "      <td>Offline TA/TO</td>\n",
              "      <td>0</td>\n",
              "      <td>23840</td>\n",
              "      <td>24219</td>\n",
              "    </tr>\n",
              "    <tr>\n",
              "      <th>11</th>\n",
              "      <td>Offline TA/TO</td>\n",
              "      <td>1</td>\n",
              "      <td>379</td>\n",
              "      <td>24219</td>\n",
              "    </tr>\n",
              "    <tr>\n",
              "      <th>12</th>\n",
              "      <td>Online TA</td>\n",
              "      <td>0</td>\n",
              "      <td>55880</td>\n",
              "      <td>56477</td>\n",
              "    </tr>\n",
              "    <tr>\n",
              "      <th>13</th>\n",
              "      <td>Online TA</td>\n",
              "      <td>1</td>\n",
              "      <td>597</td>\n",
              "      <td>56477</td>\n",
              "    </tr>\n",
              "    <tr>\n",
              "      <th>14</th>\n",
              "      <td>Undefined</td>\n",
              "      <td>0</td>\n",
              "      <td>2</td>\n",
              "      <td>2</td>\n",
              "    </tr>\n",
              "  </tbody>\n",
              "</table>\n",
              "</div>"
            ],
            "text/plain": [
              "   market_segment  is_repeated_guest  count  total\n",
              "0        Aviation                  0    173    237\n",
              "1        Aviation                  1     64    237\n",
              "2   Complementary                  0    513    743\n",
              "3   Complementary                  1    230    743\n",
              "4       Corporate                  0   3821   5295\n",
              "5       Corporate                  1   1474   5295\n",
              "6          Direct                  0  11810  12606\n",
              "7          Direct                  1    796  12606\n",
              "8          Groups                  0  19541  19811\n",
              "9          Groups                  1    270  19811\n",
              "10  Offline TA/TO                  0  23840  24219\n",
              "11  Offline TA/TO                  1    379  24219\n",
              "12      Online TA                  0  55880  56477\n",
              "13      Online TA                  1    597  56477\n",
              "14      Undefined                  0      2      2"
            ]
          },
          "metadata": {
            "tags": []
          },
          "execution_count": 32
        }
      ]
    },
    {
      "cell_type": "code",
      "metadata": {
        "id": "AtdFRnJ3-ZJk",
        "colab": {
          "base_uri": "https://localhost:8080/",
          "height": 508
        },
        "outputId": "3c10dbb8-4f45-4320-b1e4-3d088da9bcb8"
      },
      "source": [
        "market_impact['repeated_guest_market%']=(market_impact['count']/market_impact['total'])*100\n",
        "market_impact"
      ],
      "execution_count": null,
      "outputs": [
        {
          "output_type": "execute_result",
          "data": {
            "text/html": [
              "<div>\n",
              "<style scoped>\n",
              "    .dataframe tbody tr th:only-of-type {\n",
              "        vertical-align: middle;\n",
              "    }\n",
              "\n",
              "    .dataframe tbody tr th {\n",
              "        vertical-align: top;\n",
              "    }\n",
              "\n",
              "    .dataframe thead th {\n",
              "        text-align: right;\n",
              "    }\n",
              "</style>\n",
              "<table border=\"1\" class=\"dataframe\">\n",
              "  <thead>\n",
              "    <tr style=\"text-align: right;\">\n",
              "      <th></th>\n",
              "      <th>market_segment</th>\n",
              "      <th>is_repeated_guest</th>\n",
              "      <th>count</th>\n",
              "      <th>total</th>\n",
              "      <th>repeated_guest_market%</th>\n",
              "    </tr>\n",
              "  </thead>\n",
              "  <tbody>\n",
              "    <tr>\n",
              "      <th>0</th>\n",
              "      <td>Aviation</td>\n",
              "      <td>0</td>\n",
              "      <td>173</td>\n",
              "      <td>237</td>\n",
              "      <td>72.995781</td>\n",
              "    </tr>\n",
              "    <tr>\n",
              "      <th>1</th>\n",
              "      <td>Aviation</td>\n",
              "      <td>1</td>\n",
              "      <td>64</td>\n",
              "      <td>237</td>\n",
              "      <td>27.004219</td>\n",
              "    </tr>\n",
              "    <tr>\n",
              "      <th>2</th>\n",
              "      <td>Complementary</td>\n",
              "      <td>0</td>\n",
              "      <td>513</td>\n",
              "      <td>743</td>\n",
              "      <td>69.044415</td>\n",
              "    </tr>\n",
              "    <tr>\n",
              "      <th>3</th>\n",
              "      <td>Complementary</td>\n",
              "      <td>1</td>\n",
              "      <td>230</td>\n",
              "      <td>743</td>\n",
              "      <td>30.955585</td>\n",
              "    </tr>\n",
              "    <tr>\n",
              "      <th>4</th>\n",
              "      <td>Corporate</td>\n",
              "      <td>0</td>\n",
              "      <td>3821</td>\n",
              "      <td>5295</td>\n",
              "      <td>72.162417</td>\n",
              "    </tr>\n",
              "    <tr>\n",
              "      <th>5</th>\n",
              "      <td>Corporate</td>\n",
              "      <td>1</td>\n",
              "      <td>1474</td>\n",
              "      <td>5295</td>\n",
              "      <td>27.837583</td>\n",
              "    </tr>\n",
              "    <tr>\n",
              "      <th>6</th>\n",
              "      <td>Direct</td>\n",
              "      <td>0</td>\n",
              "      <td>11810</td>\n",
              "      <td>12606</td>\n",
              "      <td>93.685547</td>\n",
              "    </tr>\n",
              "    <tr>\n",
              "      <th>7</th>\n",
              "      <td>Direct</td>\n",
              "      <td>1</td>\n",
              "      <td>796</td>\n",
              "      <td>12606</td>\n",
              "      <td>6.314453</td>\n",
              "    </tr>\n",
              "    <tr>\n",
              "      <th>8</th>\n",
              "      <td>Groups</td>\n",
              "      <td>0</td>\n",
              "      <td>19541</td>\n",
              "      <td>19811</td>\n",
              "      <td>98.637121</td>\n",
              "    </tr>\n",
              "    <tr>\n",
              "      <th>9</th>\n",
              "      <td>Groups</td>\n",
              "      <td>1</td>\n",
              "      <td>270</td>\n",
              "      <td>19811</td>\n",
              "      <td>1.362879</td>\n",
              "    </tr>\n",
              "    <tr>\n",
              "      <th>10</th>\n",
              "      <td>Offline TA/TO</td>\n",
              "      <td>0</td>\n",
              "      <td>23840</td>\n",
              "      <td>24219</td>\n",
              "      <td>98.435113</td>\n",
              "    </tr>\n",
              "    <tr>\n",
              "      <th>11</th>\n",
              "      <td>Offline TA/TO</td>\n",
              "      <td>1</td>\n",
              "      <td>379</td>\n",
              "      <td>24219</td>\n",
              "      <td>1.564887</td>\n",
              "    </tr>\n",
              "    <tr>\n",
              "      <th>12</th>\n",
              "      <td>Online TA</td>\n",
              "      <td>0</td>\n",
              "      <td>55880</td>\n",
              "      <td>56477</td>\n",
              "      <td>98.942933</td>\n",
              "    </tr>\n",
              "    <tr>\n",
              "      <th>13</th>\n",
              "      <td>Online TA</td>\n",
              "      <td>1</td>\n",
              "      <td>597</td>\n",
              "      <td>56477</td>\n",
              "      <td>1.057067</td>\n",
              "    </tr>\n",
              "    <tr>\n",
              "      <th>14</th>\n",
              "      <td>Undefined</td>\n",
              "      <td>0</td>\n",
              "      <td>2</td>\n",
              "      <td>2</td>\n",
              "      <td>100.000000</td>\n",
              "    </tr>\n",
              "  </tbody>\n",
              "</table>\n",
              "</div>"
            ],
            "text/plain": [
              "   market_segment  is_repeated_guest  count  total  repeated_guest_market%\n",
              "0        Aviation                  0    173    237               72.995781\n",
              "1        Aviation                  1     64    237               27.004219\n",
              "2   Complementary                  0    513    743               69.044415\n",
              "3   Complementary                  1    230    743               30.955585\n",
              "4       Corporate                  0   3821   5295               72.162417\n",
              "5       Corporate                  1   1474   5295               27.837583\n",
              "6          Direct                  0  11810  12606               93.685547\n",
              "7          Direct                  1    796  12606                6.314453\n",
              "8          Groups                  0  19541  19811               98.637121\n",
              "9          Groups                  1    270  19811                1.362879\n",
              "10  Offline TA/TO                  0  23840  24219               98.435113\n",
              "11  Offline TA/TO                  1    379  24219                1.564887\n",
              "12      Online TA                  0  55880  56477               98.942933\n",
              "13      Online TA                  1    597  56477                1.057067\n",
              "14      Undefined                  0      2      2              100.000000"
            ]
          },
          "metadata": {
            "tags": []
          },
          "execution_count": 33
        }
      ]
    },
    {
      "cell_type": "code",
      "metadata": {
        "id": "wyiKODoa-m41",
        "colab": {
          "base_uri": "https://localhost:8080/",
          "height": 263
        },
        "outputId": "1c13aded-28a5-4d1d-fd49-2952b3a50188"
      },
      "source": [
        "#Taking only where guest is repeated\n",
        "market_impact= market_impact[market_impact['is_repeated_guest'] > 0]\n",
        "market_impact"
      ],
      "execution_count": null,
      "outputs": [
        {
          "output_type": "execute_result",
          "data": {
            "text/html": [
              "<div>\n",
              "<style scoped>\n",
              "    .dataframe tbody tr th:only-of-type {\n",
              "        vertical-align: middle;\n",
              "    }\n",
              "\n",
              "    .dataframe tbody tr th {\n",
              "        vertical-align: top;\n",
              "    }\n",
              "\n",
              "    .dataframe thead th {\n",
              "        text-align: right;\n",
              "    }\n",
              "</style>\n",
              "<table border=\"1\" class=\"dataframe\">\n",
              "  <thead>\n",
              "    <tr style=\"text-align: right;\">\n",
              "      <th></th>\n",
              "      <th>market_segment</th>\n",
              "      <th>is_repeated_guest</th>\n",
              "      <th>count</th>\n",
              "      <th>total</th>\n",
              "      <th>repeated_guest_market%</th>\n",
              "    </tr>\n",
              "  </thead>\n",
              "  <tbody>\n",
              "    <tr>\n",
              "      <th>1</th>\n",
              "      <td>Aviation</td>\n",
              "      <td>1</td>\n",
              "      <td>64</td>\n",
              "      <td>237</td>\n",
              "      <td>27.004219</td>\n",
              "    </tr>\n",
              "    <tr>\n",
              "      <th>3</th>\n",
              "      <td>Complementary</td>\n",
              "      <td>1</td>\n",
              "      <td>230</td>\n",
              "      <td>743</td>\n",
              "      <td>30.955585</td>\n",
              "    </tr>\n",
              "    <tr>\n",
              "      <th>5</th>\n",
              "      <td>Corporate</td>\n",
              "      <td>1</td>\n",
              "      <td>1474</td>\n",
              "      <td>5295</td>\n",
              "      <td>27.837583</td>\n",
              "    </tr>\n",
              "    <tr>\n",
              "      <th>7</th>\n",
              "      <td>Direct</td>\n",
              "      <td>1</td>\n",
              "      <td>796</td>\n",
              "      <td>12606</td>\n",
              "      <td>6.314453</td>\n",
              "    </tr>\n",
              "    <tr>\n",
              "      <th>9</th>\n",
              "      <td>Groups</td>\n",
              "      <td>1</td>\n",
              "      <td>270</td>\n",
              "      <td>19811</td>\n",
              "      <td>1.362879</td>\n",
              "    </tr>\n",
              "    <tr>\n",
              "      <th>11</th>\n",
              "      <td>Offline TA/TO</td>\n",
              "      <td>1</td>\n",
              "      <td>379</td>\n",
              "      <td>24219</td>\n",
              "      <td>1.564887</td>\n",
              "    </tr>\n",
              "    <tr>\n",
              "      <th>13</th>\n",
              "      <td>Online TA</td>\n",
              "      <td>1</td>\n",
              "      <td>597</td>\n",
              "      <td>56477</td>\n",
              "      <td>1.057067</td>\n",
              "    </tr>\n",
              "  </tbody>\n",
              "</table>\n",
              "</div>"
            ],
            "text/plain": [
              "   market_segment  is_repeated_guest  count  total  repeated_guest_market%\n",
              "1        Aviation                  1     64    237               27.004219\n",
              "3   Complementary                  1    230    743               30.955585\n",
              "5       Corporate                  1   1474   5295               27.837583\n",
              "7          Direct                  1    796  12606                6.314453\n",
              "9          Groups                  1    270  19811                1.362879\n",
              "11  Offline TA/TO                  1    379  24219                1.564887\n",
              "13      Online TA                  1    597  56477                1.057067"
            ]
          },
          "metadata": {
            "tags": []
          },
          "execution_count": 34
        }
      ]
    },
    {
      "cell_type": "code",
      "metadata": {
        "id": "Zlfp2_fwCwbe",
        "colab": {
          "base_uri": "https://localhost:8080/",
          "height": 632
        },
        "outputId": "6731cdb6-0097-4cfe-92d7-2237479b0280"
      },
      "source": [
        " fig, axes = plt.subplots(1, 1, figsize=(10, 10))\n",
        "_ = sns.barplot(y = 'repeated_guest_market%', x = 'market_segment', data =market_impact)"
      ],
      "execution_count": null,
      "outputs": [
        {
          "output_type": "display_data",
          "data": {
            "image/png": "[encoded data removed]",
            "text/plain": [
              "<Figure size 720x720 with 1 Axes>"
            ]
          },
          "metadata": {
            "tags": [],
            "needs_background": "light"
          }
        }
      ]
    },
    {
      "cell_type": "markdown",
      "metadata": {
        "id": "W8Sv-pAd-50v"
      },
      "source": [
        "Here we can conclude that the complimentry market segment has more number of guest. "
      ]
    },
    {
      "cell_type": "markdown",
      "metadata": {
        "id": "P8FZ_9tg_TQx"
      },
      "source": [
        "***Is effect of coustmer types and reservation status?*** "
      ]
    },
    {
      "cell_type": "code",
      "metadata": {
        "id": "3WIs6v07_JbB",
        "colab": {
          "base_uri": "https://localhost:8080/",
          "height": 416
        },
        "outputId": "552fcd09-2cfb-4226-84e9-512d0fdc352c"
      },
      "source": [
        "# effect of customer_type & resevation_status\n",
        "customer_data=df.groupby(['customer_type','reservation_status']).size().reset_index(name='count').sort_values(by='count',ascending=False)\n",
        "customer_data"
      ],
      "execution_count": null,
      "outputs": [
        {
          "output_type": "execute_result",
          "data": {
            "text/html": [
              "<div>\n",
              "<style scoped>\n",
              "    .dataframe tbody tr th:only-of-type {\n",
              "        vertical-align: middle;\n",
              "    }\n",
              "\n",
              "    .dataframe tbody tr th {\n",
              "        vertical-align: top;\n",
              "    }\n",
              "\n",
              "    .dataframe thead th {\n",
              "        text-align: right;\n",
              "    }\n",
              "</style>\n",
              "<table border=\"1\" class=\"dataframe\">\n",
              "  <thead>\n",
              "    <tr style=\"text-align: right;\">\n",
              "      <th></th>\n",
              "      <th>customer_type</th>\n",
              "      <th>reservation_status</th>\n",
              "      <th>count</th>\n",
              "    </tr>\n",
              "  </thead>\n",
              "  <tbody>\n",
              "    <tr>\n",
              "      <th>7</th>\n",
              "      <td>Transient</td>\n",
              "      <td>Check-Out</td>\n",
              "      <td>53099</td>\n",
              "    </tr>\n",
              "    <tr>\n",
              "      <th>6</th>\n",
              "      <td>Transient</td>\n",
              "      <td>Canceled</td>\n",
              "      <td>35557</td>\n",
              "    </tr>\n",
              "    <tr>\n",
              "      <th>10</th>\n",
              "      <td>Transient-Party</td>\n",
              "      <td>Check-Out</td>\n",
              "      <td>18735</td>\n",
              "    </tr>\n",
              "    <tr>\n",
              "      <th>9</th>\n",
              "      <td>Transient-Party</td>\n",
              "      <td>Canceled</td>\n",
              "      <td>6169</td>\n",
              "    </tr>\n",
              "    <tr>\n",
              "      <th>1</th>\n",
              "      <td>Contract</td>\n",
              "      <td>Check-Out</td>\n",
              "      <td>2814</td>\n",
              "    </tr>\n",
              "    <tr>\n",
              "      <th>0</th>\n",
              "      <td>Contract</td>\n",
              "      <td>Canceled</td>\n",
              "      <td>1236</td>\n",
              "    </tr>\n",
              "    <tr>\n",
              "      <th>8</th>\n",
              "      <td>Transient</td>\n",
              "      <td>No-Show</td>\n",
              "      <td>957</td>\n",
              "    </tr>\n",
              "    <tr>\n",
              "      <th>4</th>\n",
              "      <td>Group</td>\n",
              "      <td>Check-Out</td>\n",
              "      <td>518</td>\n",
              "    </tr>\n",
              "    <tr>\n",
              "      <th>11</th>\n",
              "      <td>Transient-Party</td>\n",
              "      <td>No-Show</td>\n",
              "      <td>220</td>\n",
              "    </tr>\n",
              "    <tr>\n",
              "      <th>3</th>\n",
              "      <td>Group</td>\n",
              "      <td>Canceled</td>\n",
              "      <td>55</td>\n",
              "    </tr>\n",
              "    <tr>\n",
              "      <th>2</th>\n",
              "      <td>Contract</td>\n",
              "      <td>No-Show</td>\n",
              "      <td>26</td>\n",
              "    </tr>\n",
              "    <tr>\n",
              "      <th>5</th>\n",
              "      <td>Group</td>\n",
              "      <td>No-Show</td>\n",
              "      <td>4</td>\n",
              "    </tr>\n",
              "  </tbody>\n",
              "</table>\n",
              "</div>"
            ],
            "text/plain": [
              "      customer_type reservation_status  count\n",
              "7         Transient          Check-Out  53099\n",
              "6         Transient           Canceled  35557\n",
              "10  Transient-Party          Check-Out  18735\n",
              "9   Transient-Party           Canceled   6169\n",
              "1          Contract          Check-Out   2814\n",
              "0          Contract           Canceled   1236\n",
              "8         Transient            No-Show    957\n",
              "4             Group          Check-Out    518\n",
              "11  Transient-Party            No-Show    220\n",
              "3             Group           Canceled     55\n",
              "2          Contract            No-Show     26\n",
              "5             Group            No-Show      4"
            ]
          },
          "metadata": {
            "tags": []
          },
          "execution_count": 36
        }
      ]
    },
    {
      "cell_type": "code",
      "metadata": {
        "id": "vvknL9wvBnJ7",
        "colab": {
          "base_uri": "https://localhost:8080/",
          "height": 171
        },
        "outputId": "52dcf990-1468-4172-c7c8-575dd6f43bf1"
      },
      "source": [
        "customer_total_data=pd.DataFrame(df.customer_type.value_counts())\n",
        "customer_total_data.reset_index(level=0, inplace=True)\n",
        "customer_total_data.rename(columns = {'index':'customer_type', 'customer_type':'total'}, inplace = True) \n",
        "customer_total_data"
      ],
      "execution_count": null,
      "outputs": [
        {
          "output_type": "execute_result",
          "data": {
            "text/html": [
              "<div>\n",
              "<style scoped>\n",
              "    .dataframe tbody tr th:only-of-type {\n",
              "        vertical-align: middle;\n",
              "    }\n",
              "\n",
              "    .dataframe tbody tr th {\n",
              "        vertical-align: top;\n",
              "    }\n",
              "\n",
              "    .dataframe thead th {\n",
              "        text-align: right;\n",
              "    }\n",
              "</style>\n",
              "<table border=\"1\" class=\"dataframe\">\n",
              "  <thead>\n",
              "    <tr style=\"text-align: right;\">\n",
              "      <th></th>\n",
              "      <th>customer_type</th>\n",
              "      <th>total</th>\n",
              "    </tr>\n",
              "  </thead>\n",
              "  <tbody>\n",
              "    <tr>\n",
              "      <th>0</th>\n",
              "      <td>Transient</td>\n",
              "      <td>89613</td>\n",
              "    </tr>\n",
              "    <tr>\n",
              "      <th>1</th>\n",
              "      <td>Transient-Party</td>\n",
              "      <td>25124</td>\n",
              "    </tr>\n",
              "    <tr>\n",
              "      <th>2</th>\n",
              "      <td>Contract</td>\n",
              "      <td>4076</td>\n",
              "    </tr>\n",
              "    <tr>\n",
              "      <th>3</th>\n",
              "      <td>Group</td>\n",
              "      <td>577</td>\n",
              "    </tr>\n",
              "  </tbody>\n",
              "</table>\n",
              "</div>"
            ],
            "text/plain": [
              "     customer_type  total\n",
              "0        Transient  89613\n",
              "1  Transient-Party  25124\n",
              "2         Contract   4076\n",
              "3            Group    577"
            ]
          },
          "metadata": {
            "tags": []
          },
          "execution_count": 37
        }
      ]
    },
    {
      "cell_type": "code",
      "metadata": {
        "id": "EdjF6RE4Bp39",
        "colab": {
          "base_uri": "https://localhost:8080/",
          "height": 416
        },
        "outputId": "89813105-1e6f-4da5-a7e9-ad2d2215c96a"
      },
      "source": [
        "# merging 2 table\n",
        "customer_data=customer_data.merge(customer_total_data, on='customer_type', how='left')\n",
        "customer_data['customer_type_reservation%']=(customer_data['count']/customer_data['total'])*100\n",
        "customer_data"
      ],
      "execution_count": null,
      "outputs": [
        {
          "output_type": "execute_result",
          "data": {
            "text/html": [
              "<div>\n",
              "<style scoped>\n",
              "    .dataframe tbody tr th:only-of-type {\n",
              "        vertical-align: middle;\n",
              "    }\n",
              "\n",
              "    .dataframe tbody tr th {\n",
              "        vertical-align: top;\n",
              "    }\n",
              "\n",
              "    .dataframe thead th {\n",
              "        text-align: right;\n",
              "    }\n",
              "</style>\n",
              "<table border=\"1\" class=\"dataframe\">\n",
              "  <thead>\n",
              "    <tr style=\"text-align: right;\">\n",
              "      <th></th>\n",
              "      <th>customer_type</th>\n",
              "      <th>reservation_status</th>\n",
              "      <th>count</th>\n",
              "      <th>total</th>\n",
              "      <th>customer_type_reservation%</th>\n",
              "    </tr>\n",
              "  </thead>\n",
              "  <tbody>\n",
              "    <tr>\n",
              "      <th>0</th>\n",
              "      <td>Transient</td>\n",
              "      <td>Check-Out</td>\n",
              "      <td>53099</td>\n",
              "      <td>89613</td>\n",
              "      <td>59.253680</td>\n",
              "    </tr>\n",
              "    <tr>\n",
              "      <th>1</th>\n",
              "      <td>Transient</td>\n",
              "      <td>Canceled</td>\n",
              "      <td>35557</td>\n",
              "      <td>89613</td>\n",
              "      <td>39.678395</td>\n",
              "    </tr>\n",
              "    <tr>\n",
              "      <th>2</th>\n",
              "      <td>Transient-Party</td>\n",
              "      <td>Check-Out</td>\n",
              "      <td>18735</td>\n",
              "      <td>25124</td>\n",
              "      <td>74.570132</td>\n",
              "    </tr>\n",
              "    <tr>\n",
              "      <th>3</th>\n",
              "      <td>Transient-Party</td>\n",
              "      <td>Canceled</td>\n",
              "      <td>6169</td>\n",
              "      <td>25124</td>\n",
              "      <td>24.554211</td>\n",
              "    </tr>\n",
              "    <tr>\n",
              "      <th>4</th>\n",
              "      <td>Contract</td>\n",
              "      <td>Check-Out</td>\n",
              "      <td>2814</td>\n",
              "      <td>4076</td>\n",
              "      <td>69.038273</td>\n",
              "    </tr>\n",
              "    <tr>\n",
              "      <th>5</th>\n",
              "      <td>Contract</td>\n",
              "      <td>Canceled</td>\n",
              "      <td>1236</td>\n",
              "      <td>4076</td>\n",
              "      <td>30.323847</td>\n",
              "    </tr>\n",
              "    <tr>\n",
              "      <th>6</th>\n",
              "      <td>Transient</td>\n",
              "      <td>No-Show</td>\n",
              "      <td>957</td>\n",
              "      <td>89613</td>\n",
              "      <td>1.067925</td>\n",
              "    </tr>\n",
              "    <tr>\n",
              "      <th>7</th>\n",
              "      <td>Group</td>\n",
              "      <td>Check-Out</td>\n",
              "      <td>518</td>\n",
              "      <td>577</td>\n",
              "      <td>89.774697</td>\n",
              "    </tr>\n",
              "    <tr>\n",
              "      <th>8</th>\n",
              "      <td>Transient-Party</td>\n",
              "      <td>No-Show</td>\n",
              "      <td>220</td>\n",
              "      <td>25124</td>\n",
              "      <td>0.875657</td>\n",
              "    </tr>\n",
              "    <tr>\n",
              "      <th>9</th>\n",
              "      <td>Group</td>\n",
              "      <td>Canceled</td>\n",
              "      <td>55</td>\n",
              "      <td>577</td>\n",
              "      <td>9.532062</td>\n",
              "    </tr>\n",
              "    <tr>\n",
              "      <th>10</th>\n",
              "      <td>Contract</td>\n",
              "      <td>No-Show</td>\n",
              "      <td>26</td>\n",
              "      <td>4076</td>\n",
              "      <td>0.637880</td>\n",
              "    </tr>\n",
              "    <tr>\n",
              "      <th>11</th>\n",
              "      <td>Group</td>\n",
              "      <td>No-Show</td>\n",
              "      <td>4</td>\n",
              "      <td>577</td>\n",
              "      <td>0.693241</td>\n",
              "    </tr>\n",
              "  </tbody>\n",
              "</table>\n",
              "</div>"
            ],
            "text/plain": [
              "      customer_type reservation_status  ...  total  customer_type_reservation%\n",
              "0         Transient          Check-Out  ...  89613                   59.253680\n",
              "1         Transient           Canceled  ...  89613                   39.678395\n",
              "2   Transient-Party          Check-Out  ...  25124                   74.570132\n",
              "3   Transient-Party           Canceled  ...  25124                   24.554211\n",
              "4          Contract          Check-Out  ...   4076                   69.038273\n",
              "5          Contract           Canceled  ...   4076                   30.323847\n",
              "6         Transient            No-Show  ...  89613                    1.067925\n",
              "7             Group          Check-Out  ...    577                   89.774697\n",
              "8   Transient-Party            No-Show  ...  25124                    0.875657\n",
              "9             Group           Canceled  ...    577                    9.532062\n",
              "10         Contract            No-Show  ...   4076                    0.637880\n",
              "11            Group            No-Show  ...    577                    0.693241\n",
              "\n",
              "[12 rows x 5 columns]"
            ]
          },
          "metadata": {
            "tags": []
          },
          "execution_count": 38
        }
      ]
    },
    {
      "cell_type": "code",
      "metadata": {
        "id": "W4KrzmAdB1kH",
        "colab": {
          "base_uri": "https://localhost:8080/",
          "height": 632
        },
        "outputId": "a4ad7717-40e2-478e-d147-6125b26e321c"
      },
      "source": [
        "fig, axes = plt.subplots(1, 1, figsize=(15, 10))\n",
        "sns.barplot(x = 'reservation_status',y='customer_type_reservation%', data =customer_data , hue='customer_type')\n",
        "plt.show()"
      ],
      "execution_count": null,
      "outputs": [
        {
          "output_type": "display_data",
          "data": {
            "image/png": "[encoded data removed]",
            "text/plain": [
              "<Figure size 1080x720 with 1 Axes>"
            ]
          },
          "metadata": {
            "tags": [],
            "needs_background": "light"
          }
        }
      ]
    },
    {
      "cell_type": "markdown",
      "metadata": {
        "id": "8DcqALn3Crhx"
      },
      "source": [
        "We can conclude that customer type group has more number of guest and customer type transient has more number of cancelation"
      ]
    },
    {
      "cell_type": "markdown",
      "metadata": {
        "id": "UNQx_EUKP3Or"
      },
      "source": [
        "###correlation of our data###"
      ]
    },
    {
      "cell_type": "code",
      "metadata": {
        "colab": {
          "base_uri": "https://localhost:8080/",
          "height": 803
        },
        "id": "cVuCE8TlQHjB",
        "outputId": "7e120d4e-d234-4def-ce10-931f00abb518"
      },
      "source": [
        "#correlaton of our data\n",
        "plt.subplots(figsize=(15,10))\n",
        "sns.heatmap(df.corr(),annot = True, linewidths=0.5,cmap = 'coolwarm_r')"
      ],
      "execution_count": null,
      "outputs": [
        {
          "output_type": "execute_result",
          "data": {
            "text/plain": [
              "<matplotlib.axes._subplots.AxesSubplot at 0x7f3fb2e76190>"
            ]
          },
          "metadata": {
            "tags": []
          },
          "execution_count": 33
        },
        {
          "output_type": "display_data",
          "data": {
            "image/png": "[encoded data removed]",
            "text/plain": [
              "<Figure size 1080x720 with 2 Axes>"
            ]
          },
          "metadata": {
            "tags": [],
            "needs_background": "light"
          }
        }
      ]
    },
    {
      "cell_type": "markdown",
      "metadata": {
        "id": "CLz6TKLzQYl8"
      },
      "source": [
        "Here we can see data is highly correlated with stay in week nights and stay in weekend nights.\n",
        "There is negative correlation between ArrivingWeek and ArrivingYear."
      ]
    }
  ]
}